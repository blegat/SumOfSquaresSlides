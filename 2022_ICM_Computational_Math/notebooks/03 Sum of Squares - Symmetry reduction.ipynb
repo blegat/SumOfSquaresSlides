{
 "cells": [
  {
   "cell_type": "code",
   "execution_count": 1,
   "id": "d914e38e",
   "metadata": {},
   "outputs": [
    {
     "name": "stdout",
     "output_type": "stream",
     "text": [
      "\u001b[32m\u001b[1m      Status\u001b[22m\u001b[39m `~/Mathematics/Conferences/Presentations/SumOfSquaresSlides/2022_ICM_Computational_Math/Project.toml`\n",
      " \u001b[90m [7c1d4256] \u001b[39mDynamicPolynomials v0.4.5\n",
      " \u001b[90m [7073ff75] \u001b[39mIJulia v1.23.3\n",
      " \u001b[90m [4076af6c] \u001b[39mJuMP v1.1.1\n",
      " \u001b[90m [8bc5a954] \u001b[39mPermutationGroups v0.3.2\n",
      " \u001b[90m [c946c3f1] \u001b[39mSCS v1.1.2\n",
      " \u001b[90m [4b9e565b] \u001b[39mSumOfSquares v0.6.2\n",
      " \u001b[90m [24249f21] \u001b[39mSymPy v1.1.6\n",
      " \u001b[90m [858aa9a9] \u001b[39mSymbolicWedderburn v0.3.0\n"
     ]
    }
   ],
   "source": [
    "using Pkg\n",
    "Pkg.status()"
   ]
  },
  {
   "cell_type": "code",
   "execution_count": 2,
   "id": "4af47930",
   "metadata": {},
   "outputs": [],
   "source": [
    "using LinearAlgebra\n",
    "using SumOfSquares\n",
    "using SCS\n",
    "using DynamicPolynomials"
   ]
  },
  {
   "cell_type": "code",
   "execution_count": 3,
   "id": "6b3ee048",
   "metadata": {},
   "outputs": [
    {
     "data": {
      "text/plain": [
       "(PolyVar{true}[x₁, x₂, x₃, x₄],)"
      ]
     },
     "execution_count": 3,
     "metadata": {},
     "output_type": "execute_result"
    }
   ],
   "source": [
    "const N = 4\n",
    "@polyvar x[1:N]"
   ]
  },
  {
   "cell_type": "code",
   "execution_count": 4,
   "id": "6e634ae5",
   "metadata": {},
   "outputs": [
    {
     "data": {
      "text/plain": [
       "(7x₁⁶ + 16x₁⁵x₂ + 16x₁⁵x₃ + 16x₁⁵x₄ + 13x₁⁴x₂² + 22x₁⁴x₂x₃ + 22x₁⁴x₂x₄ + 13x₁⁴x₃² + 22x₁⁴x₃x₄ + 13x₁⁴x₄² + 8x₁³x₂³ + 10x₁³x₂²x₃ + 10x₁³x₂²x₄ + 10x₁³x₂x₃² + 12x₁³x₂x₃x₄ + 10x₁³x₂x₄² + 8x₁³x₃³ + 10x₁³x₃²x₄ + 10x₁³x₃x₄² + 8x₁³x₄³ + 13x₁²x₂⁴ + 10x₁²x₂³x₃ + 10x₁²x₂³x₄ + 6x₁²x₂²x₃² + 4x₁²x₂²x₃x₄ + 6x₁²x₂²x₄² + 10x₁²x₂x₃³ + 4x₁²x₂x₃²x₄ + 4x₁²x₂x₃x₄² + 10x₁²x₂x₄³ + 13x₁²x₃⁴ + 10x₁²x₃³x₄ + 6x₁²x₃²x₄² + 10x₁²x₃x₄³ + 13x₁²x₄⁴ + 16x₁x₂⁵ + 22x₁x₂⁴x₃ + 22x₁x₂⁴x₄ + 10x₁x₂³x₃² + 12x₁x₂³x₃x₄ + 10x₁x₂³x₄² + 10x₁x₂²x₃³ + 4x₁x₂²x₃²x₄ + 4x₁x₂²x₃x₄² + 10x₁x₂²x₄³ + 22x₁x₂x₃⁴ + 12x₁x₂x₃³x₄ + 4x₁x₂x₃²x₄² + 12x₁x₂x₃x₄³ + 22x₁x₂x₄⁴ + 16x₁x₃⁵ + 22x₁x₃⁴x₄ + 10x₁x₃³x₄² + 10x₁x₃²x₄³ + 22x₁x₃x₄⁴ + 16x₁x₄⁵ + 7x₂⁶ + 16x₂⁵x₃ + 16x₂⁵x₄ + 13x₂⁴x₃² + 22x₂⁴x₃x₄ + 13x₂⁴x₄² + 8x₂³x₃³ + 10x₂³x₃²x₄ + 10x₂³x₃x₄² + 8x₂³x₄³ + 13x₂²x₃⁴ + 10x₂²x₃³x₄ + 6x₂²x₃²x₄² + 10x₂²x₃x₄³ + 13x₂²x₄⁴ + 16x₂x₃⁵ + 22x₂x₃⁴x₄ + 10x₂x₃³x₄² + 10x₂x₃²x₄³ + 22x₂x₃x₄⁴ + 16x₂x₄⁵ + 7x₃⁶ + 16x₃⁵x₄ + 13x₃⁴x₄² + 8x₃³x₄³ + 13x₃²x₄⁴ + 16x₃x₄⁵ + 7x₄⁶ + 14x₁⁵ + 34x₁⁴x₂ + 34x₁⁴x₃ + 34x₁⁴x₄ + 32x₁³x₂² + 52x₁³x₂x₃ + 52x₁³x₂x₄ + 32x₁³x₃² + 52x₁³x₃x₄ + 32x₁³x₄² + 32x₁²x₂³ + 36x₁²x₂²x₃ + 36x₁²x₂²x₄ + 36x₁²x₂x₃² + 36x₁²x₂x₃x₄ + 36x₁²x₂x₄² + 32x₁²x₃³ + 36x₁²x₃²x₄ + 36x₁²x₃x₄² + 32x₁²x₄³ + 34x₁x₂⁴ + 52x₁x₂³x₃ + 52x₁x₂³x₄ + 36x₁x₂²x₃² + 36x₁x₂²x₃x₄ + 36x₁x₂²x₄² + 52x₁x₂x₃³ + 36x₁x₂x₃²x₄ + 36x₁x₂x₃x₄² + 52x₁x₂x₄³ + 34x₁x₃⁴ + 52x₁x₃³x₄ + 36x₁x₃²x₄² + 52x₁x₃x₄³ + 34x₁x₄⁴ + 14x₂⁵ + 34x₂⁴x₃ + 34x₂⁴x₄ + 32x₂³x₃² + 52x₂³x₃x₄ + 32x₂³x₄² + 32x₂²x₃³ + 36x₂²x₃²x₄ + 36x₂²x₃x₄² + 32x₂²x₄³ + 34x₂x₃⁴ + 52x₂x₃³x₄ + 36x₂x₃²x₄² + 52x₂x₃x₄³ + 34x₂x₄⁴ + 14x₃⁵ + 34x₃⁴x₄ + 32x₃³x₄² + 32x₃²x₄³ + 34x₃x₄⁴ + 14x₄⁵ + 10x₁⁴ + 24x₁³x₂ + 24x₁³x₃ + 24x₁³x₄ + 28x₁²x₂² + 40x₁²x₂x₃ + 40x₁²x₂x₄ + 28x₁²x₃² + 40x₁²x₃x₄ + 28x₁²x₄² + 24x₁x₂³ + 40x₁x₂²x₃ + 40x₁x₂²x₄ + 40x₁x₂x₃² + 48x₁x₂x₃x₄ + 40x₁x₂x₄² + 24x₁x₃³ + 40x₁x₃²x₄ + 40x₁x₃x₄² + 24x₁x₄³ + 10x₂⁴ + 24x₂³x₃ + 24x₂³x₄ + 28x₂²x₃² + 40x₂²x₃x₄ + 28x₂²x₄² + 24x₂x₃³ + 40x₂x₃²x₄ + 40x₂x₃x₄² + 24x₂x₄³ + 10x₃⁴ + 24x₃³x₄ + 28x₃²x₄² + 24x₃x₄³ + 10x₄⁴ + x₁² + x₂² + x₃² + x₄² + x₁ + x₂ + x₃ + x₄,)"
      ]
     },
     "execution_count": 4,
     "metadata": {},
     "output_type": "execute_result"
    }
   ],
   "source": [
    "f = sum(x) +\n",
    "    sum(x .^ 2) +\n",
    "    (sum((x .+ 1) .^ 2 .* (x .+ x') .^ 2)*sum(x)^2)\n",
    "(f,)"
   ]
  },
  {
   "cell_type": "code",
   "execution_count": 5,
   "id": "e0201873",
   "metadata": {},
   "outputs": [
    {
     "data": {
      "text/plain": [
       "scs_opt (generic function with 1 method)"
      ]
     },
     "execution_count": 5,
     "metadata": {},
     "output_type": "execute_result"
    }
   ],
   "source": [
    "scs_opt(;eps=1e-5, verbose=true) = optimizer_with_attributes(\n",
    "    SCS.Optimizer, \"eps_abs\"=>eps, \"eps_rel\"=>eps, \"verbose\"=>verbose, \"acceleration_lookback\"=>0)"
   ]
  },
  {
   "cell_type": "code",
   "execution_count": 6,
   "id": "797c4740",
   "metadata": {},
   "outputs": [
    {
     "data": {
      "text/plain": [
       "A JuMP Model\n",
       "Maximization problem with:\n",
       "Variable: 1\n",
       "Objective function type: VariableRef\n",
       "`Vector{AffExpr}`-in-`SumOfSquares.SOSPolynomialSet{FullSpace, Monomial{true}, MonomialVector{true}, SumOfSquares.Certificate.Newton{SOSCone, MonomialBasis, Tuple{}}}`: 1 constraint\n",
       "Model mode: AUTOMATIC\n",
       "CachingOptimizer state: NO_OPTIMIZER\n",
       "Solver name: No optimizer attached.\n",
       "Names registered in the model: t"
      ]
     },
     "execution_count": 6,
     "metadata": {},
     "output_type": "execute_result"
    }
   ],
   "source": [
    "no_symmetry = let f=f, m = SOSModel()\n",
    "    @variable m t\n",
    "    @objective m Max t\n",
    "    @constraint m f-t in SOSCone()\n",
    "    m\n",
    "end"
   ]
  },
  {
   "cell_type": "code",
   "execution_count": 7,
   "id": "d51c6006",
   "metadata": {},
   "outputs": [
    {
     "name": "stdout",
     "output_type": "stream",
     "text": [
      "------------------------------------------------------------------\n",
      "\t       SCS v3.2.0 - Splitting Conic Solver\n",
      "\t(c) Brendan O'Donoghue, Stanford University, 2012\n",
      "------------------------------------------------------------------\n",
      "problem:  variables n: 631, constraints m: 840\n",
      "cones: \t  z: primal zero / dual free vars: 210\n",
      "\t  s: psd vars: 630, ssize: 1\n",
      "settings: eps_abs: 1.0e-05, eps_rel: 1.0e-05, eps_infeas: 1.0e-07\n",
      "\t  alpha: 1.50, scale: 1.00e-01, adaptive_scale: 1\n",
      "\t  max_iters: 100000, normalize: 1, rho_x: 1.00e-06\n",
      "lin-sys:  sparse-direct\n",
      "\t  nnz(A): 1261, nnz(P): 0\n",
      "------------------------------------------------------------------\n",
      " iter | pri res | dua res |   gap   |   obj   |  scale  | time (s)\n",
      "------------------------------------------------------------------\n",
      "     0| 5.20e+01  3.00e+00  3.74e+03  1.85e+03  1.00e-01  1.73e-03 \n",
      "   250| 2.22e-03  4.34e-05  2.09e-02  2.67e-01  1.00e-01  6.48e-02 \n",
      "   500| 6.36e-04  2.17e-05  2.31e-02  2.66e-01  1.00e-01  1.19e-01 \n",
      "   750| 4.95e-04  1.59e-05  2.26e-02  2.66e-01  1.00e-01  1.73e-01 \n",
      "  1000| 4.34e-04  1.31e-05  2.15e-02  2.67e-01  1.00e-01  2.28e-01 \n",
      "  1250| 4.09e-04  1.14e-05  2.03e-02  2.67e-01  1.00e-01  2.82e-01 \n",
      "  1500| 3.91e-04  1.01e-05  1.90e-02  2.68e-01  1.00e-01  3.37e-01 \n",
      "  1750| 3.78e-04  9.23e-06  1.76e-02  2.69e-01  1.00e-01  3.91e-01 \n",
      "  2000| 3.68e-04  8.48e-06  1.61e-02  2.69e-01  1.00e-01  4.45e-01 \n",
      "  2250| 3.61e-04  7.75e-06  1.47e-02  2.70e-01  1.00e-01  5.00e-01 \n",
      "  2500| 3.55e-04  7.04e-06  1.32e-02  2.71e-01  1.00e-01  5.55e-01 \n",
      "  2750| 3.51e-04  6.34e-06  1.18e-02  2.71e-01  1.00e-01  6.11e-01 \n",
      "  3000| 3.47e-04  5.66e-06  1.03e-02  2.72e-01  1.00e-01  6.67e-01 \n",
      "  3250| 3.44e-04  5.00e-06  8.87e-03  2.73e-01  1.00e-01  7.22e-01 \n",
      "  3500| 3.42e-04  4.35e-06  7.40e-03  2.74e-01  1.00e-01  7.77e-01 \n",
      "  3750| 3.40e-04  3.71e-06  5.94e-03  2.74e-01  1.00e-01  8.32e-01 \n",
      "  4000| 3.39e-04  3.08e-06  4.48e-03  2.75e-01  1.00e-01  8.87e-01 \n",
      "  4250| 3.37e-04  2.46e-06  3.01e-03  2.76e-01  1.00e-01  9.42e-01 \n",
      "  4500| 3.36e-04  1.85e-06  1.54e-03  2.77e-01  1.00e-01  9.97e-01 \n",
      "  4750| 3.35e-04  1.79e-06  9.68e-05  2.77e-01  1.00e-01  1.05e+00 \n",
      "  5000| 1.66e-05  1.54e-06  1.46e-04  2.77e-01  1.00e-01  1.11e+00 \n",
      "  5250| 1.52e-05  1.36e-06  1.25e-04  2.77e-01  1.00e-01  1.17e+00 \n",
      "  5500| 1.41e-05  1.21e-06  1.08e-04  2.77e-01  1.00e-01  1.22e+00 \n",
      "  5750| 1.31e-05  1.08e-06  9.51e-05  2.77e-01  1.00e-01  1.28e+00 \n",
      "  6000| 1.23e-05  9.76e-07  8.43e-05  2.77e-01  1.00e-01  1.34e+00 \n",
      "  6250| 1.15e-05  8.88e-07  7.53e-05  2.77e-01  1.00e-01  1.39e+00 \n",
      "  6500| 1.08e-05  8.13e-07  6.79e-05  2.77e-01  1.00e-01  1.45e+00 \n",
      "  6750| 1.02e-05  7.48e-07  6.15e-05  2.77e-01  1.00e-01  1.50e+00 \n",
      "  7000| 9.71e-06  6.92e-07  5.61e-05  2.77e-01  1.00e-01  1.56e+00 \n",
      "  7250| 9.22e-06  6.43e-07  5.15e-05  2.77e-01  1.00e-01  1.61e+00 \n",
      "  7500| 8.78e-06  5.99e-07  4.74e-05  2.77e-01  1.00e-01  1.67e+00 \n",
      "  7750| 8.37e-06  5.60e-07  4.38e-05  2.77e-01  1.00e-01  1.73e+00 \n",
      "  8000| 8.00e-06  5.26e-07  4.07e-05  2.77e-01  1.00e-01  1.78e+00 \n",
      "  8250| 7.66e-06  4.95e-07  3.79e-05  2.77e-01  1.00e-01  1.84e+00 \n",
      "  8500| 7.34e-06  4.67e-07  3.54e-05  2.77e-01  1.00e-01  1.89e+00 \n",
      "  8750| 7.05e-06  4.42e-07  3.32e-05  2.77e-01  1.00e-01  1.95e+00 \n",
      "  9000| 6.78e-06  4.18e-07  3.12e-05  2.77e-01  1.00e-01  2.01e+00 \n",
      "  9250| 6.52e-06  3.97e-07  2.94e-05  2.77e-01  1.00e-01  2.06e+00 \n",
      "  9500| 6.29e-06  3.78e-07  2.78e-05  2.77e-01  1.00e-01  2.12e+00 \n",
      "  9750| 6.06e-06  3.60e-07  2.63e-05  2.77e-01  1.00e-01  2.17e+00 \n",
      " 10000| 5.86e-06  3.44e-07  2.49e-05  2.77e-01  1.00e-01  2.23e+00 \n",
      " 10250| 5.66e-06  3.29e-07  2.37e-05  2.77e-01  1.00e-01  2.29e+00 \n",
      " 10500| 5.48e-06  3.15e-07  2.25e-05  2.77e-01  1.00e-01  2.34e+00 \n",
      " 10750| 5.30e-06  3.02e-07  2.14e-05  2.77e-01  1.00e-01  2.40e+00 \n",
      " 11000| 5.14e-06  2.90e-07  2.05e-05  2.77e-01  1.00e-01  2.46e+00 \n",
      " 11250| 4.98e-06  2.79e-07  1.96e-05  2.77e-01  1.00e-01  2.51e+00 \n",
      " 11500| 4.84e-06  2.69e-07  1.87e-05  2.77e-01  1.00e-01  2.57e+00 \n",
      " 11750| 4.70e-06  2.59e-07  1.79e-05  2.77e-01  1.00e-01  2.62e+00 \n",
      " 12000| 4.56e-06  2.50e-07  1.72e-05  2.77e-01  1.00e-01  2.68e+00 \n",
      " 12250| 4.44e-06  2.42e-07  1.65e-05  2.77e-01  1.00e-01  2.74e+00 \n",
      " 12500| 4.32e-06  2.34e-07  1.59e-05  2.77e-01  1.00e-01  2.79e+00 \n",
      " 12750| 4.20e-06  2.26e-07  1.53e-05  2.77e-01  1.00e-01  2.85e+00 \n",
      " 13000| 4.09e-06  2.19e-07  1.47e-05  2.77e-01  1.00e-01  2.91e+00 \n",
      " 13250| 3.99e-06  2.13e-07  1.42e-05  2.77e-01  1.00e-01  2.96e+00 \n",
      " 13500| 3.89e-06  2.06e-07  1.37e-05  2.77e-01  1.00e-01  3.02e+00 \n",
      " 13750| 3.80e-06  2.00e-07  1.32e-05  2.77e-01  1.00e-01  3.08e+00 \n",
      " 14000| 3.70e-06  1.94e-07  1.28e-05  2.77e-01  1.00e-01  3.13e+00 \n",
      " 14025| 3.70e-06  1.94e-07  1.27e-05  2.77e-01  1.00e-01  3.14e+00 \n",
      "------------------------------------------------------------------\n",
      "status:  solved\n",
      "timings: total: 3.14e+00s = setup: 1.17e-03s + solve: 3.14e+00s\n",
      "\t lin-sys: 2.53e-01s, cones: 2.68e+00s, accel: 0.00e+00s\n",
      "------------------------------------------------------------------\n",
      "objective = 0.277086\n",
      "------------------------------------------------------------------\n"
     ]
    },
    {
     "name": "stderr",
     "output_type": "stream",
     "text": [
      "┌ Info: OPTIMAL\n",
      "└ @ Main In[7]:3\n"
     ]
    },
    {
     "data": {
      "text/plain": [
       "-0.27707976088580943"
      ]
     },
     "execution_count": 7,
     "metadata": {},
     "output_type": "execute_result"
    }
   ],
   "source": [
    "set_optimizer(no_symmetry, scs_opt(verbose=true))\n",
    "optimize!(no_symmetry);\n",
    "@info termination_status(no_symmetry)\n",
    "objective_value(no_symmetry)"
   ]
  },
  {
   "cell_type": "markdown",
   "id": "c813e494",
   "metadata": {},
   "source": [
    "# Defining group action for the first time"
   ]
  },
  {
   "cell_type": "code",
   "execution_count": 8,
   "id": "28d2c00b",
   "metadata": {},
   "outputs": [],
   "source": [
    "using GroupsCore\n",
    "using PermutationGroups\n",
    "using SymbolicWedderburn"
   ]
  },
  {
   "cell_type": "code",
   "execution_count": 9,
   "id": "890bae9e",
   "metadata": {},
   "outputs": [
    {
     "data": {
      "text/plain": [
       "Permutation group on 2 generators generated by\n",
       " (1,2)\n",
       " (1,2,3,4)"
      ]
     },
     "execution_count": 9,
     "metadata": {},
     "output_type": "execute_result"
    }
   ],
   "source": [
    "G = PermGroup([perm\"(1,2)\", Perm([2:N; 1])])"
   ]
  },
  {
   "cell_type": "code",
   "execution_count": 10,
   "id": "6e75eace",
   "metadata": {},
   "outputs": [],
   "source": [
    "struct VariablePermutation{V} <: SymbolicWedderburn.ByPermutations\n",
    "    vars::V\n",
    "end\n",
    "\n",
    "function SymbolicWedderburn.action(\n",
    "    a::VariablePermutation,\n",
    "    el::GroupElement,\n",
    "    poly::DynamicPolynomials.AbstractPolynomial,\n",
    ")\n",
    "    return sum(SymbolicWedderburn.action(a, el, term) for term in DynamicPolynomials.terms(poly))\n",
    "end\n",
    "\n",
    "function SymbolicWedderburn.action(\n",
    "    a::VariablePermutation,\n",
    "    el::GroupElement,\n",
    "    term::DynamicPolynomials.AbstractTerm,\n",
    ")\n",
    "    return DynamicPolynomials.coefficient(term) *\n",
    "           SymbolicWedderburn.action(a, el, DynamicPolynomials.monomial(term))\n",
    "end\n",
    "\n",
    "function SymbolicWedderburn.action(\n",
    "    a::VariablePermutation,\n",
    "    g::PermutationGroups.AbstractPerm,\n",
    "    m::DynamicPolynomials.Monomial,\n",
    ")\n",
    "    return m(a.vars => a.vars^g)\n",
    "end"
   ]
  },
  {
   "cell_type": "code",
   "execution_count": 11,
   "id": "6e712328",
   "metadata": {},
   "outputs": [
    {
     "data": {
      "text/plain": [
       "VariablePermutation{Vector{PolyVar{true}}}(PolyVar{true}[x₁, x₂, x₃, x₄])"
      ]
     },
     "execution_count": 11,
     "metadata": {},
     "output_type": "execute_result"
    }
   ],
   "source": [
    "ac = VariablePermutation(x)"
   ]
  },
  {
   "cell_type": "code",
   "execution_count": 12,
   "id": "a00a98dc",
   "metadata": {},
   "outputs": [
    {
     "data": {
      "text/latex": [
       "$$ 3x_{2}x_{3} + 2x_{2}x_{4} $$"
      ],
      "text/plain": [
       "3x₂x₃ + 2x₂x₄"
      ]
     },
     "execution_count": 12,
     "metadata": {},
     "output_type": "execute_result"
    }
   ],
   "source": [
    "SymbolicWedderburn.action(ac, perm\"(1,2,3,4)\", 3*x[1]*x[2] + 2*x[1]*x[3])"
   ]
  },
  {
   "cell_type": "code",
   "execution_count": 13,
   "id": "db5c266b",
   "metadata": {},
   "outputs": [],
   "source": [
    "for g in G\n",
    "    @assert SymbolicWedderburn.action(ac, g, f) == f\n",
    "end"
   ]
  },
  {
   "cell_type": "markdown",
   "id": "7b5a874a",
   "metadata": {},
   "source": [
    "## Reducing the number of constraints"
   ]
  },
  {
   "cell_type": "code",
   "execution_count": 29,
   "id": "9ec242f5",
   "metadata": {},
   "outputs": [
    {
     "data": {
      "text/plain": [
       "A JuMP Model\n",
       "Maximization problem with:\n",
       "Variables: 631\n",
       "Objective function type: VariableRef\n",
       "`Vector{VariableRef}`-in-`MathOptInterface.PositiveSemidefiniteConeTriangle`: 1 constraint\n",
       "Model mode: AUTOMATIC\n",
       "CachingOptimizer state: NO_OPTIMIZER\n",
       "Solver name: No optimizer attached.\n",
       "Names registered in the model: P, t"
      ]
     },
     "execution_count": 29,
     "metadata": {},
     "output_type": "execute_result"
    }
   ],
   "source": [
    "orbit_reduction = let poly = f, sos_model = JuMP.Model()\n",
    "    JuMP.@variable sos_model t\n",
    "    JuMP.@objective sos_model Max t\n",
    "    n = let vars = variables(poly), mdeg = DynamicPolynomials.maxdegree(poly)\n",
    "        length(DynamicPolynomials.monomials(vars, 0:mdeg÷2))\n",
    "    end\n",
    "    P = JuMP.@variable sos_model P[1:n, 1:n] Symmetric\n",
    "    JuMP.@constraint sos_model P in PSDCone()\n",
    "    sos_model\n",
    "end"
   ]
  },
  {
   "cell_type": "code",
   "execution_count": 30,
   "id": "d0c505ff",
   "metadata": {},
   "outputs": [
    {
     "data": {
      "text/plain": [
       "orbit_decomposition (generic function with 1 method)"
      ]
     },
     "execution_count": 30,
     "metadata": {},
     "output_type": "execute_result"
    }
   ],
   "source": [
    "function orbit_decomposition(\n",
    "        action::SymbolicWedderburn.Action,\n",
    "        G::Group,\n",
    "        basis::SymbolicWedderburn.StarAlgebras.AbstractBasis,\n",
    ")\n",
    "    b = SymbolicWedderburn.StarAlgebras.Basis{UInt32}\n",
    "    tbl = SymbolicWedderburn.Characters.CharacterTable(Rational{Int}, G)\n",
    "    return SymbolicWedderburn.invariant_vectors(tbl, action, basis)\n",
    "end"
   ]
  },
  {
   "cell_type": "code",
   "execution_count": 32,
   "id": "ef3cba0c",
   "metadata": {},
   "outputs": [
    {
     "data": {
      "text/plain": [
       "27-element Vector{SparseArrays.SparseVector{Rational{Int64}}}:\n",
       "   [1  ]  =  1//4\n",
       "  [57 ]  =  1//4\n",
       "  [78 ]  =  1//4\n",
       "  [84 ]  =  1//4\n",
       "   [2  ]  =  1//12\n",
       "  [3  ]  =  1//12\n",
       "  [4  ]  =  1//12\n",
       "  [36 ]  =  1//12\n",
       "  [51 ]  =  1//12\n",
       "  [56 ]  =  1//12\n",
       "  [58 ]  =  1//12\n",
       "  [59 ]  =  1//12\n",
       "  [72 ]  =  1//12\n",
       "  [77 ]  =  1//12\n",
       "  [79 ]  =  1//12\n",
       "  [83 ]  =  1//12\n",
       "   [5  ]  =  1//12\n",
       "  [8  ]  =  1//12\n",
       "  [10 ]  =  1//12\n",
       "  [21 ]  =  1//12\n",
       "  [31 ]  =  1//12\n",
       "  [35 ]  =  1//12\n",
       "  [60 ]  =  1//12\n",
       "  [62 ]  =  1//12\n",
       "  [67 ]  =  1//12\n",
       "  [71 ]  =  1//12\n",
       "  [80 ]  =  1//12\n",
       "  [82 ]  =  1//12\n",
       "   [6  ]  =  1//12\n",
       "  [7  ]  =  1//12\n",
       "  [9  ]  =  1//12\n",
       "  [37 ]  =  1//12\n",
       "  [38 ]  =  1//12\n",
       "  [46 ]  =  1//12\n",
       "  [50 ]  =  1//12\n",
       "  [52 ]  =  1//12\n",
       "  [55 ]  =  1//12\n",
       "  [61 ]  =  1//12\n",
       "  [73 ]  =  1//12\n",
       "  [76 ]  =  1//12\n",
       "   [11 ]  =  1//6\n",
       "  [17 ]  =  1//6\n",
       "  [20 ]  =  1//6\n",
       "  [63 ]  =  1//6\n",
       "  [66 ]  =  1//6\n",
       "  [81 ]  =  1//6\n",
       "   [12 ]  =  1//24\n",
       "  [13 ]  =  1//24\n",
       "  [14 ]  =  1//24\n",
       "  [16 ]  =  1//24\n",
       "  [18 ]  =  1//24\n",
       "  [19 ]  =  1//24\n",
       "  [22 ]  =  1//24\n",
       "  [23 ]  =  1//24\n",
       "  [27 ]  =  1//24\n",
       "  [30 ]  =  1//24\n",
       "         ⋮\n",
       "  [41 ]  =  1//24\n",
       "  [42 ]  =  1//24\n",
       "  [45 ]  =  1//24\n",
       "  [53 ]  =  1//24\n",
       "  [54 ]  =  1//24\n",
       "  [64 ]  =  1//24\n",
       "  [65 ]  =  1//24\n",
       "  [68 ]  =  1//24\n",
       "  [70 ]  =  1//24\n",
       "  [74 ]  =  1//24\n",
       "  [75 ]  =  1//24\n",
       "   [15 ]  =  1//4\n",
       "  [40 ]  =  1//4\n",
       "  [47 ]  =  1//4\n",
       "  [49 ]  =  1//4\n",
       "   [24 ]  =  1//4\n",
       "  [26 ]  =  1//4\n",
       "  [33 ]  =  1//4\n",
       "  [69 ]  =  1//4\n",
       "   [25 ]  =  1//6\n",
       "  [28 ]  =  1//6\n",
       "  [29 ]  =  1//6\n",
       "  [43 ]  =  1//6\n",
       "  [44 ]  =  1//6\n",
       "  [48 ]  =  1//6\n",
       "   [85 ]  =  1//4\n",
       "  [120]  =  1//4\n",
       "  [135]  =  1//4\n",
       "  [140]  =  1//4\n",
       "   [86 ]  =  1//12\n",
       "  [87 ]  =  1//12\n",
       "  [88 ]  =  1//12\n",
       "  [105]  =  1//12\n",
       "  [115]  =  1//12\n",
       "  [119]  =  1//12\n",
       "  [121]  =  1//12\n",
       "  [122]  =  1//12\n",
       "  [130]  =  1//12\n",
       "  [134]  =  1//12\n",
       "  [136]  =  1//12\n",
       "  [139]  =  1//12\n",
       "   [89 ]  =  1//12\n",
       "  [92 ]  =  1//12\n",
       "  [94 ]  =  1//12\n",
       "  [95 ]  =  1//12\n",
       "  [101]  =  1//12\n",
       "  [104]  =  1//12\n",
       "  [123]  =  1//12\n",
       "  [125]  =  1//12\n",
       "  [126]  =  1//12\n",
       "  [129]  =  1//12\n",
       "  [137]  =  1//12\n",
       "  [138]  =  1//12\n",
       "   [90 ]  =  1//12\n",
       "  [91 ]  =  1//12\n",
       "  [93 ]  =  1//12\n",
       "  [106]  =  1//12\n",
       "  [107]  =  1//12\n",
       "  [111]  =  1//12\n",
       "  [114]  =  1//12\n",
       "  [116]  =  1//12\n",
       "  [118]  =  1//12\n",
       "  [124]  =  1//12\n",
       "  [131]  =  1//12\n",
       "  [133]  =  1//12\n",
       " ⋮\n",
       "   [141]  =  1//4\n",
       "  [161]  =  1//4\n",
       "  [171]  =  1//4\n",
       "  [175]  =  1//4\n",
       "   [142]  =  1//12\n",
       "  [143]  =  1//12\n",
       "  [144]  =  1//12\n",
       "  [151]  =  1//12\n",
       "  [157]  =  1//12\n",
       "  [160]  =  1//12\n",
       "  [162]  =  1//12\n",
       "  [163]  =  1//12\n",
       "  [167]  =  1//12\n",
       "  [170]  =  1//12\n",
       "  [172]  =  1//12\n",
       "  [174]  =  1//12\n",
       "   [145]  =  1//6\n",
       "  [148]  =  1//6\n",
       "  [150]  =  1//6\n",
       "  [164]  =  1//6\n",
       "  [166]  =  1//6\n",
       "  [173]  =  1//6\n",
       "   [146]  =  1//12\n",
       "  [147]  =  1//12\n",
       "  [149]  =  1//12\n",
       "  [152]  =  1//12\n",
       "  [153]  =  1//12\n",
       "  [154]  =  1//12\n",
       "  [156]  =  1//12\n",
       "  [158]  =  1//12\n",
       "  [159]  =  1//12\n",
       "  [165]  =  1//12\n",
       "  [168]  =  1//12\n",
       "  [169]  =  1//12\n",
       "   [155]  =  1//1\n",
       "   [176]  =  1//4\n",
       "  [186]  =  1//4\n",
       "  [192]  =  1//4\n",
       "  [195]  =  1//4\n",
       "   [177]  =  1//12\n",
       "  [178]  =  1//12\n",
       "  [179]  =  1//12\n",
       "  [180]  =  1//12\n",
       "  [183]  =  1//12\n",
       "  [185]  =  1//12\n",
       "  [187]  =  1//12\n",
       "  [188]  =  1//12\n",
       "  [189]  =  1//12\n",
       "  [191]  =  1//12\n",
       "  [193]  =  1//12\n",
       "  [194]  =  1//12\n",
       "   [181]  =  1//4\n",
       "  [182]  =  1//4\n",
       "  [184]  =  1//4\n",
       "  [190]  =  1//4\n",
       "   [196]  =  1//4\n",
       "  [200]  =  1//4\n",
       "  [203]  =  1//4\n",
       "  [205]  =  1//4\n",
       "   [197]  =  1//6\n",
       "  [198]  =  1//6\n",
       "  [199]  =  1//6\n",
       "  [201]  =  1//6\n",
       "  [202]  =  1//6\n",
       "  [204]  =  1//6\n",
       "   [206]  =  1//4\n",
       "  [207]  =  1//4\n",
       "  [208]  =  1//4\n",
       "  [209]  =  1//4\n",
       "   [210]  =  1//1"
      ]
     },
     "execution_count": 32,
     "metadata": {},
     "output_type": "execute_result"
    }
   ],
   "source": [
    "max_deg = DynamicPolynomials.maxdegree(f)\n",
    "vars = DynamicPolynomials.variables(f)\n",
    "basis_psd = DynamicPolynomials.monomials(vars, 0:max_deg÷2)\n",
    "basis_constraints = SymbolicWedderburn.StarAlgebras.Basis{UInt32}(DynamicPolynomials.monomials(vars, 0:max_deg))\n",
    "# @info \"constraints are written in the following basis\" basis=basis_constraints\n",
    "\n",
    "orbit_dec = orbit_decomposition(ac, G, basis_constraints)\n",
    "\n",
    "# [v'*basis_constraints for v in orbit_dec][1:2]"
   ]
  },
  {
   "cell_type": "code",
   "execution_count": 33,
   "id": "44d45ee8",
   "metadata": {},
   "outputs": [
    {
     "data": {
      "text/plain": [
       "A JuMP Model\n",
       "Maximization problem with:\n",
       "Variables: 631\n",
       "Objective function type: VariableRef\n",
       "`AffExpr`-in-`MathOptInterface.EqualTo{Float64}`: 27 constraints\n",
       "`Vector{VariableRef}`-in-`MathOptInterface.PositiveSemidefiniteConeTriangle`: 1 constraint\n",
       "Model mode: AUTOMATIC\n",
       "CachingOptimizer state: NO_OPTIMIZER\n",
       "Solver name: No optimizer attached.\n",
       "Names registered in the model: P, t"
      ]
     },
     "execution_count": 33,
     "metadata": {},
     "output_type": "execute_result"
    }
   ],
   "source": [
    "let sos_problem = orbit_reduction, poly = f, P = orbit_reduction[:P]\n",
    "\n",
    "    A, C = let m = basis_psd*basis_psd', t = sos_problem[:t]\n",
    "        A = [m .== t for t in basis_constraints]\n",
    "        C = DynamicPolynomials.coefficients(poly - t, basis_constraints)\n",
    "        A, C\n",
    "    end\n",
    "    \n",
    "    for V in orbit_dec\n",
    "        c = dot(V, C)\n",
    "        # average A with weights given by V:\n",
    "        A_orb = sum(v.*A[t] for (t,v) in pairs(V))\n",
    "        JuMP.@constraint sos_problem dot(A_orb, P) == c\n",
    "    end\n",
    "\n",
    "    sos_problem\n",
    "end"
   ]
  },
  {
   "cell_type": "code",
   "execution_count": 34,
   "id": "42fb21dc",
   "metadata": {},
   "outputs": [
    {
     "name": "stdout",
     "output_type": "stream",
     "text": [
      "------------------------------------------------------------------\n",
      "\t       SCS v3.2.0 - Splitting Conic Solver\n",
      "\t(c) Brendan O'Donoghue, Stanford University, 2012\n",
      "------------------------------------------------------------------\n",
      "problem:  variables n: 631, constraints m: 657\n",
      "cones: \t  z: primal zero / dual free vars: 27\n",
      "\t  s: psd vars: 630, ssize: 1\n",
      "settings: eps_abs: 1.0e-05, eps_rel: 1.0e-05, eps_infeas: 1.0e-07\n",
      "\t  alpha: 1.50, scale: 1.00e-01, adaptive_scale: 1\n",
      "\t  max_iters: 100000, normalize: 1, rho_x: 1.00e-06\n",
      "lin-sys:  sparse-direct\n",
      "\t  nnz(A): 1261, nnz(P): 0\n",
      "------------------------------------------------------------------\n",
      " iter | pri res | dua res |   gap   |   obj   |  scale  | time (s)\n",
      "------------------------------------------------------------------\n",
      "     0| 5.20e+01  2.33e+00  2.92e+03  1.43e+03  1.00e-01  7.99e-04 \n",
      "   250| 2.32e-03  2.53e-05  2.45e-02  2.65e-01  1.00e-01  8.85e-02 \n",
      "   500| 6.48e-04  9.62e-06  2.62e-02  2.64e-01  1.00e-01  1.39e-01 \n",
      "   750| 4.96e-04  5.55e-06  2.56e-02  2.65e-01  1.00e-01  1.90e-01 \n",
      "  1000| 4.35e-04  3.78e-06  2.45e-02  2.65e-01  1.00e-01  2.41e-01 \n",
      "  1250| 4.03e-04  2.81e-06  2.31e-02  2.66e-01  1.00e-01  2.92e-01 \n",
      "  1500| 3.84e-04  2.21e-06  2.16e-02  2.67e-01  1.00e-01  3.43e-01 \n",
      "  1750| 3.75e-04  2.12e-06  2.02e-02  2.67e-01  1.00e-01  3.97e-01 \n",
      "  2000| 3.67e-04  2.41e-06  1.86e-02  2.68e-01  1.00e-01  4.50e-01 \n",
      "  2250| 3.61e-04  2.34e-06  1.71e-02  2.69e-01  1.00e-01  5.03e-01 \n",
      "  2500| 3.56e-04  2.19e-06  1.55e-02  2.70e-01  1.00e-01  5.57e-01 \n",
      "  2750| 3.51e-04  2.03e-06  1.39e-02  2.70e-01  1.00e-01  6.10e-01 \n",
      "  3000| 3.48e-04  1.87e-06  1.23e-02  2.71e-01  1.00e-01  6.63e-01 \n",
      "  3250| 3.45e-04  1.72e-06  1.07e-02  2.72e-01  1.00e-01  7.16e-01 \n",
      "  3500| 3.43e-04  1.59e-06  9.07e-03  2.73e-01  1.00e-01  7.67e-01 \n",
      "  3750| 3.41e-04  1.48e-06  7.46e-03  2.74e-01  1.00e-01  8.19e-01 \n",
      "  4000| 3.40e-04  1.37e-06  5.84e-03  2.74e-01  1.00e-01  8.71e-01 \n",
      "  4250| 3.38e-04  1.28e-06  4.22e-03  2.75e-01  1.00e-01  9.24e-01 \n",
      "  4500| 3.37e-04  1.20e-06  2.60e-03  2.76e-01  1.00e-01  9.76e-01 \n",
      "  4750| 3.36e-04  1.12e-06  9.73e-04  2.77e-01  1.00e-01  1.03e+00 \n",
      "  5000| 1.75e-05  9.23e-07  5.40e-05  2.77e-01  1.00e-01  1.08e+00 \n",
      "  5250| 1.61e-05  8.18e-07  5.03e-05  2.77e-01  1.00e-01  1.13e+00 \n",
      "  5500| 1.50e-05  7.33e-07  4.67e-05  2.77e-01  1.00e-01  1.19e+00 \n",
      "  5750| 1.39e-05  6.65e-07  4.35e-05  2.77e-01  1.00e-01  1.24e+00 \n",
      "  6000| 1.31e-05  6.09e-07  4.06e-05  2.77e-01  1.00e-01  1.29e+00 \n",
      "  6250| 1.23e-05  5.62e-07  3.80e-05  2.77e-01  1.00e-01  1.35e+00 \n",
      "  6500| 1.16e-05  5.22e-07  3.56e-05  2.77e-01  1.00e-01  1.40e+00 \n",
      "  6750| 1.10e-05  4.86e-07  3.34e-05  2.77e-01  1.00e-01  1.45e+00 \n",
      "  7000| 1.04e-05  4.55e-07  3.15e-05  2.77e-01  1.00e-01  1.51e+00 \n",
      "  7250| 9.88e-06  4.28e-07  2.97e-05  2.77e-01  1.00e-01  1.56e+00 \n",
      "  7500| 9.41e-06  4.03e-07  2.81e-05  2.77e-01  1.00e-01  1.61e+00 \n",
      "  7750| 8.98e-06  3.81e-07  2.66e-05  2.77e-01  1.00e-01  1.66e+00 \n",
      "  8000| 8.59e-06  3.61e-07  2.53e-05  2.77e-01  1.00e-01  1.71e+00 \n",
      "  8250| 8.22e-06  3.42e-07  2.40e-05  2.77e-01  1.00e-01  1.77e+00 \n",
      "  8500| 7.88e-06  3.26e-07  2.29e-05  2.77e-01  1.00e-01  1.82e+00 \n",
      "  8750| 7.57e-06  3.10e-07  2.18e-05  2.77e-01  1.00e-01  1.87e+00 \n",
      "  9000| 7.28e-06  2.96e-07  2.09e-05  2.77e-01  1.00e-01  1.92e+00 \n",
      "  9250| 7.01e-06  2.83e-07  1.99e-05  2.77e-01  1.00e-01  1.98e+00 \n",
      "  9500| 6.75e-06  2.71e-07  1.91e-05  2.77e-01  1.00e-01  2.03e+00 \n",
      "  9750| 6.51e-06  2.60e-07  1.83e-05  2.77e-01  1.00e-01  2.08e+00 \n",
      " 10000| 6.29e-06  2.49e-07  1.76e-05  2.77e-01  1.00e-01  2.13e+00 \n",
      " 10250| 6.08e-06  2.40e-07  1.69e-05  2.77e-01  1.00e-01  2.18e+00 \n",
      " 10500| 5.88e-06  2.31e-07  1.63e-05  2.77e-01  1.00e-01  2.24e+00 \n",
      " 10750| 5.69e-06  2.22e-07  1.57e-05  2.77e-01  1.00e-01  2.29e+00 \n",
      " 11000| 5.52e-06  2.14e-07  1.51e-05  2.77e-01  1.00e-01  2.34e+00 \n",
      " 11250| 5.35e-06  2.07e-07  1.46e-05  2.77e-01  1.00e-01  2.39e+00 \n",
      " 11500| 5.19e-06  2.00e-07  1.41e-05  2.77e-01  1.00e-01  2.44e+00 \n",
      " 11750| 5.04e-06  1.93e-07  1.36e-05  2.77e-01  1.00e-01  2.50e+00 \n",
      " 12000| 4.90e-06  1.87e-07  1.31e-05  2.77e-01  1.00e-01  2.55e+00 \n",
      " 12225| 4.78e-06  1.81e-07  1.27e-05  2.77e-01  1.00e-01  2.60e+00 \n",
      "------------------------------------------------------------------\n",
      "status:  solved\n",
      "timings: total: 2.60e+00s = setup: 2.20e-03s + solve: 2.60e+00s\n",
      "\t lin-sys: 1.90e-01s, cones: 2.25e+00s, accel: 0.00e+00s\n",
      "------------------------------------------------------------------\n",
      "objective = 0.277086\n",
      "------------------------------------------------------------------\n"
     ]
    }
   ],
   "source": [
    "set_optimizer(orbit_reduction, scs_opt(verbose=true))\n",
    "optimize!(orbit_reduction)"
   ]
  },
  {
   "cell_type": "markdown",
   "id": "af95ea4d",
   "metadata": {},
   "source": [
    "# Blocks, Blocks, Blocks"
   ]
  },
  {
   "cell_type": "code",
   "execution_count": 35,
   "id": "549a2ef8",
   "metadata": {},
   "outputs": [
    {
     "data": {
      "text/plain": [
       "35-element MonomialVector{true}:\n",
       " x₁³\n",
       " x₁²x₂\n",
       " x₁²x₃\n",
       " x₁²x₄\n",
       " x₁x₂²\n",
       " x₁x₂x₃\n",
       " x₁x₂x₄\n",
       " x₁x₃²\n",
       " x₁x₃x₄\n",
       " x₁x₄²\n",
       " x₂³\n",
       " x₂²x₃\n",
       " x₂²x₄\n",
       " ⋮\n",
       " x₁x₄\n",
       " x₂²\n",
       " x₂x₃\n",
       " x₂x₄\n",
       " x₃²\n",
       " x₃x₄\n",
       " x₄²\n",
       " x₁\n",
       " x₂\n",
       " x₃\n",
       " x₄\n",
       " 1"
      ]
     },
     "execution_count": 35,
     "metadata": {},
     "output_type": "execute_result"
    }
   ],
   "source": [
    "basis_psd"
   ]
  },
  {
   "cell_type": "code",
   "execution_count": 36,
   "id": "f261c291",
   "metadata": {},
   "outputs": [
    {
     "data": {
      "text/plain": [
       "Wedderburn Decomposition into 27 orbits and 4 summands of sizes\n",
       "[4, 21, 7, 3]"
      ]
     },
     "execution_count": 36,
     "metadata": {},
     "output_type": "execute_result"
    }
   ],
   "source": [
    "wdec_ssimple = WedderburnDecomposition(\n",
    "    Float64,\n",
    "    G,\n",
    "    ac,\n",
    "    basis_constraints,\n",
    "    basis_psd,\n",
    "    semisimple = true,\n",
    ")"
   ]
  },
  {
   "cell_type": "code",
   "execution_count": 37,
   "id": "686aacab",
   "metadata": {},
   "outputs": [
    {
     "data": {
      "text/plain": [
       "7-element Vector{Polynomial{true, Float64}}:\n",
       " 1.0\n",
       " -0.5x₁³ - 0.5x₂³ - 0.5x₃³ - 0.5x₄³\n",
       " -0.5x₁x₂x₃ - 0.5x₁x₂x₄ - 0.5x₁x₃x₄ - 0.5x₂x₃x₄\n",
       " -0.5x₁² - 0.5x₂² - 0.5x₃² - 0.5x₄²\n",
       " -0.5x₁ - 0.5x₂ - 0.5x₃ - 0.5x₄\n",
       " -0.408x₁x₂ - 0.408x₁x₃ - 0.408x₁x₄ - 0.408x₂x₃ - 0.408x₂x₄ - 0.408x₃x₄\n",
       " -0.289x₁²x₂ - 0.289x₁²x₃ - 0.289x₁²x₄ - 0.289x₁x₂² - 0.289x₁x₃² - 0.289x₁x₄² - 0.289x₂²x₃ - 0.289x₂²x₄ - 0.289x₂x₃² - 0.289x₂x₄² - 0.289x₃²x₄ - 0.289x₃x₄²"
      ]
     },
     "execution_count": 37,
     "metadata": {},
     "output_type": "execute_result"
    }
   ],
   "source": [
    "round.(direct_summands(wdec_ssimple)[3]*basis_psd, digits=3)"
   ]
  },
  {
   "cell_type": "code",
   "execution_count": 38,
   "id": "72777402",
   "metadata": {},
   "outputs": [
    {
     "data": {
      "text/plain": [
       "(A JuMP Model\n",
       "Maximization problem with:\n",
       "Variables: 276\n",
       "Objective function type: VariableRef\n",
       "`Vector{VariableRef}`-in-`MathOptInterface.PositiveSemidefiniteConeTriangle`: 4 constraints\n",
       "Model mode: AUTOMATIC\n",
       "CachingOptimizer state: NO_OPTIMIZER\n",
       "Solver name: No optimizer attached.\n",
       "Names registered in the model: t, Symmetric{VariableRef, Matrix{VariableRef}}[[_[2] _[3] _[5] _[8]; _[3] _[4] _[6] _[9]; _[5] _[6] _[7] _[10]; _[8] _[9] _[10] _[11]], [_[12] _[13] … _[202] _[222]; _[13] _[14] … _[203] _[223]; … ; _[202] _[203] … _[221] _[241]; _[222] _[223] … _[241] _[242]], [_[243] _[244] … _[258] _[264]; _[244] _[245] … _[259] _[265]; … ; _[258] _[259] … _[263] _[269]; _[264] _[265] … _[269] _[270]], [_[271] _[272] _[274]; _[272] _[273] _[275]; _[274] _[275] _[276]]])"
      ]
     },
     "execution_count": 38,
     "metadata": {},
     "output_type": "execute_result"
    }
   ],
   "source": [
    "semisimple_model, psds = let sos_model = JuMP.Model(), wedderburn = wdec_ssimple\n",
    "    JuMP.@variable sos_model t\n",
    "    JuMP.@objective sos_model Max t\n",
    "    psds = map(SymbolicWedderburn.direct_summands(wedderburn)) do ds\n",
    "        dim = size(ds, 1)\n",
    "        P = JuMP.@variable sos_model [1:dim, 1:dim] Symmetric\n",
    "        JuMP.@constraint sos_model P in PSDCone()\n",
    "        P\n",
    "    end\n",
    "    sos_model, psds\n",
    "end"
   ]
  },
  {
   "cell_type": "code",
   "execution_count": 39,
   "id": "9c9de9aa",
   "metadata": {},
   "outputs": [
    {
     "data": {
      "text/plain": [
       "A JuMP Model\n",
       "Maximization problem with:\n",
       "Variables: 276\n",
       "Objective function type: VariableRef\n",
       "`AffExpr`-in-`MathOptInterface.EqualTo{Float64}`: 27 constraints\n",
       "`Vector{VariableRef}`-in-`MathOptInterface.PositiveSemidefiniteConeTriangle`: 4 constraints\n",
       "Model mode: AUTOMATIC\n",
       "CachingOptimizer state: NO_OPTIMIZER\n",
       "Solver name: No optimizer attached.\n",
       "Names registered in the model: t"
      ]
     },
     "execution_count": 39,
     "metadata": {},
     "output_type": "execute_result"
    }
   ],
   "source": [
    "let sos_model = semisimple_model, wedderburn = wdec_ssimple, poly = f, P = psds\n",
    "    \n",
    "    A, C = let m = basis_psd*basis_psd', t = sos_model[:t]\n",
    "        A = [m .== t for t in basis_constraints]\n",
    "        C = DynamicPolynomials.coefficients(poly - t, basis_constraints)\n",
    "        A, C\n",
    "    end\n",
    "    \n",
    "    for V in invariant_vectors(wedderburn)\n",
    "        c = dot(V, C)\n",
    "        # average A with weights given by V:\n",
    "        A_orb = sum(v.*A[t] for (t,v) in pairs(V))\n",
    "        \n",
    "        dA = SymbolicWedderburn.diagonalize(A_orb, wedderburn)\n",
    "        JuMP.@constraint sos_model sum(\n",
    "            dot(dA[π], P[π]) for π in 1:length(P)\n",
    "        ) == c\n",
    "    end\n",
    "    sos_model\n",
    "end"
   ]
  },
  {
   "cell_type": "code",
   "execution_count": 40,
   "id": "bc9fceca",
   "metadata": {},
   "outputs": [
    {
     "name": "stdout",
     "output_type": "stream",
     "text": [
      "------------------------------------------------------------------\n",
      "\t       SCS v3.2.0 - Splitting Conic Solver\n",
      "\t(c) Brendan O'Donoghue, Stanford University, 2012\n",
      "------------------------------------------------------------------\n",
      "problem:  variables n: 276, constraints m: 302\n",
      "cones: \t  z: primal zero / dual free vars: 27\n",
      "\t  s: psd vars: 275, ssize: 4\n",
      "settings: eps_abs: 1.0e-05, eps_rel: 1.0e-05, eps_infeas: 1.0e-07\n",
      "\t  alpha: 1.50, scale: 1.00e-01, adaptive_scale: 1\n",
      "\t  max_iters: 100000, normalize: 1, rho_x: 1.00e-06\n",
      "lin-sys:  sparse-direct\n",
      "\t  nnz(A): 861, nnz(P): 0\n",
      "------------------------------------------------------------------\n",
      " iter | pri res | dua res |   gap   |   obj   |  scale  | time (s)\n",
      "------------------------------------------------------------------\n",
      "     0| 5.19e+01  9.65e+00  2.54e+03  1.24e+03  1.00e-01  4.97e-04 \n",
      "   250| 1.35e-02  2.94e-05  3.15e-02  2.62e-01  2.77e-02  4.59e-02 \n",
      "   500| 2.79e-03  4.58e-06  3.05e-02  2.62e-01  2.77e-02  8.29e-02 \n",
      "   750| 2.68e-03  2.98e-06  3.00e-02  2.62e-01  2.77e-02  1.05e-01 \n",
      "  1000| 2.69e-03  2.61e-06  2.95e-02  2.63e-01  2.77e-02  1.27e-01 \n",
      "  1250| 2.69e-03  2.45e-06  2.89e-02  2.63e-01  2.77e-02  1.49e-01 \n",
      "  1500| 2.69e-03  2.34e-06  2.85e-02  2.63e-01  2.77e-02  1.72e-01 \n",
      "  1750| 2.69e-03  2.27e-06  2.80e-02  2.63e-01  2.77e-02  1.95e-01 \n",
      "  2000| 2.69e-03  2.21e-06  2.75e-02  2.64e-01  2.77e-02  2.17e-01 \n",
      "  2250| 2.70e-03  2.16e-06  2.70e-02  2.64e-01  2.77e-02  2.40e-01 \n",
      "  2500| 2.70e-03  2.12e-06  2.66e-02  2.64e-01  2.77e-02  2.61e-01 \n",
      "  2750| 2.70e-03  2.08e-06  2.61e-02  2.64e-01  2.77e-02  2.83e-01 \n",
      "  3000| 2.70e-03  2.05e-06  2.57e-02  2.64e-01  2.77e-02  3.04e-01 \n",
      "  3250| 2.70e-03  2.01e-06  2.52e-02  2.65e-01  2.77e-02  3.26e-01 \n",
      "  3500| 2.70e-03  5.78e-06  2.30e-02  2.66e-01  8.77e-02  3.48e-01 \n",
      "  3750| 2.70e-03  5.42e-06  2.16e-02  2.67e-01  8.77e-02  3.70e-01 \n",
      "  4000| 2.70e-03  5.06e-06  2.02e-02  2.67e-01  8.77e-02  3.92e-01 \n",
      "  4250| 2.70e-03  4.69e-06  1.88e-02  2.68e-01  8.77e-02  4.14e-01 \n",
      "  4500| 2.70e-03  4.33e-06  1.75e-02  2.69e-01  8.77e-02  4.36e-01 \n",
      "  4750| 2.70e-03  3.96e-06  1.61e-02  2.69e-01  8.77e-02  4.58e-01 \n",
      "  5000| 2.70e-03  3.59e-06  1.47e-02  2.70e-01  8.77e-02  4.80e-01 \n",
      "  5250| 2.70e-03  3.27e-06  1.33e-02  2.71e-01  8.77e-02  5.02e-01 \n",
      "  5500| 2.70e-03  2.96e-06  1.20e-02  2.71e-01  8.77e-02  5.24e-01 \n",
      "  5750| 2.70e-03  2.64e-06  1.06e-02  2.72e-01  8.77e-02  5.46e-01 \n",
      "  6000| 2.70e-03  2.33e-06  9.24e-03  2.73e-01  8.77e-02  5.68e-01 \n",
      "  6250| 2.70e-03  2.01e-06  7.87e-03  2.73e-01  8.77e-02  5.89e-01 \n",
      "  6500| 2.70e-03  1.69e-06  6.50e-03  2.74e-01  8.77e-02  6.11e-01 \n",
      "  6750| 2.70e-03  1.37e-06  5.13e-03  2.75e-01  8.77e-02  6.32e-01 \n",
      "  7000| 2.70e-03  1.05e-06  3.76e-03  2.75e-01  8.77e-02  6.54e-01 \n",
      "  7250| 2.70e-03  7.30e-07  2.40e-03  2.76e-01  8.77e-02  6.75e-01 \n",
      "  7500| 1.22e-05  2.07e-06  1.25e-05  2.77e-01  2.78e-01  6.97e-01 \n",
      "------------------------------------------------------------------\n",
      "status:  solved\n",
      "timings: total: 6.98e-01s = setup: 1.70e-03s + solve: 6.97e-01s\n",
      "\t lin-sys: 5.92e-02s, cones: 5.85e-01s, accel: 0.00e+00s\n",
      "------------------------------------------------------------------\n",
      "objective = 0.277073\n",
      "------------------------------------------------------------------\n"
     ]
    }
   ],
   "source": [
    "set_optimizer(semisimple_model, scs_opt(verbose=true))\n",
    "optimize!(semisimple_model)"
   ]
  },
  {
   "cell_type": "code",
   "execution_count": 41,
   "id": "d58a5b1d",
   "metadata": {},
   "outputs": [
    {
     "data": {
      "text/plain": [
       "Wedderburn Decomposition into 27 orbits and 4 simple summands of sizes\n",
       "[2, 7, 7, 1]"
      ]
     },
     "execution_count": 41,
     "metadata": {},
     "output_type": "execute_result"
    }
   ],
   "source": [
    "wdec_simple = WedderburnDecomposition(\n",
    "    Float64,\n",
    "    G,\n",
    "    ac,\n",
    "    basis_constraints,\n",
    "    basis_psd,\n",
    "    semisimple = false,\n",
    ")"
   ]
  },
  {
   "cell_type": "code",
   "execution_count": 42,
   "id": "554df643",
   "metadata": {},
   "outputs": [
    {
     "data": {
      "text/plain": [
       "(A JuMP Model\n",
       "Maximization problem with:\n",
       "Variables: 61\n",
       "Objective function type: VariableRef\n",
       "`Vector{VariableRef}`-in-`MathOptInterface.PositiveSemidefiniteConeTriangle`: 4 constraints\n",
       "Model mode: AUTOMATIC\n",
       "CachingOptimizer state: NO_OPTIMIZER\n",
       "Solver name: No optimizer attached.\n",
       "Names registered in the model: t, Symmetric{VariableRef, Matrix{VariableRef}}[[_[2] _[3]; _[3] _[4]], [_[5] _[6] … _[20] _[26]; _[6] _[7] … _[21] _[27]; … ; _[20] _[21] … _[25] _[31]; _[26] _[27] … _[31] _[32]], [_[33] _[34] … _[48] _[54]; _[34] _[35] … _[49] _[55]; … ; _[48] _[49] … _[53] _[59]; _[54] _[55] … _[59] _[60]], [_[61];;]])"
      ]
     },
     "execution_count": 42,
     "metadata": {},
     "output_type": "execute_result"
    }
   ],
   "source": [
    "simple_model, psds = let sos_model = JuMP.Model(), wedderburn = wdec_simple\n",
    "    JuMP.@variable sos_model t\n",
    "    JuMP.@objective sos_model Max t\n",
    "    psds = map(SymbolicWedderburn.direct_summands(wedderburn)) do ds\n",
    "        dim = size(ds, 1)\n",
    "        P = JuMP.@variable sos_model [1:dim, 1:dim] Symmetric\n",
    "        JuMP.@constraint sos_model P in PSDCone()\n",
    "        P\n",
    "    end\n",
    "    sos_model, psds\n",
    "end"
   ]
  },
  {
   "cell_type": "code",
   "execution_count": 43,
   "id": "e1ab1577",
   "metadata": {},
   "outputs": [
    {
     "data": {
      "text/plain": [
       "A JuMP Model\n",
       "Maximization problem with:\n",
       "Variables: 61\n",
       "Objective function type: VariableRef\n",
       "`AffExpr`-in-`MathOptInterface.EqualTo{Float64}`: 27 constraints\n",
       "`Vector{VariableRef}`-in-`MathOptInterface.PositiveSemidefiniteConeTriangle`: 4 constraints\n",
       "Model mode: AUTOMATIC\n",
       "CachingOptimizer state: NO_OPTIMIZER\n",
       "Solver name: No optimizer attached.\n",
       "Names registered in the model: t"
      ]
     },
     "execution_count": 43,
     "metadata": {},
     "output_type": "execute_result"
    }
   ],
   "source": [
    "let sos_model = simple_model, wedderburn = wdec_simple, poly = f, P = psds\n",
    "    \n",
    "    A, C = let m = basis_psd*basis_psd', t = sos_model[:t]\n",
    "        A = [m .== t for t in basis_constraints]\n",
    "        C = DynamicPolynomials.coefficients(poly - t, basis_constraints)\n",
    "        A, C\n",
    "    end\n",
    "    \n",
    "    for V in invariant_vectors(wedderburn)\n",
    "        c = dot(V, C)\n",
    "        # average A with weights given by V:\n",
    "        A_orb = sum(v.*A[t] for (t,v) in pairs(V))\n",
    "        \n",
    "        dA = SymbolicWedderburn.diagonalize(A_orb, wedderburn)\n",
    "        JuMP.@constraint sos_model sum(\n",
    "            dot(dA[π], P[π]) for π in 1:length(P)\n",
    "        ) == c\n",
    "    end\n",
    "    sos_model\n",
    "end"
   ]
  },
  {
   "cell_type": "code",
   "execution_count": 44,
   "id": "727aad61",
   "metadata": {},
   "outputs": [
    {
     "name": "stdout",
     "output_type": "stream",
     "text": [
      "------------------------------------------------------------------\n",
      "\t       SCS v3.2.0 - Splitting Conic Solver\n",
      "\t(c) Brendan O'Donoghue, Stanford University, 2012\n",
      "------------------------------------------------------------------\n",
      "problem:  variables n: 276, constraints m: 302\n",
      "cones: \t  z: primal zero / dual free vars: 27\n",
      "\t  s: psd vars: 275, ssize: 4\n",
      "settings: eps_abs: 1.0e-05, eps_rel: 1.0e-05, eps_infeas: 1.0e-07\n",
      "\t  alpha: 1.50, scale: 1.00e-01, adaptive_scale: 1\n",
      "\t  max_iters: 100000, normalize: 1, rho_x: 1.00e-06\n",
      "lin-sys:  sparse-direct\n",
      "\t  nnz(A): 861, nnz(P): 0\n",
      "------------------------------------------------------------------\n",
      " iter | pri res | dua res |   gap   |   obj   |  scale  | time (s)\n",
      "------------------------------------------------------------------\n",
      "     0| 5.19e+01  9.65e+00  2.54e+03  1.24e+03  1.00e-01  5.79e-04 \n",
      "   250| 1.35e-02  2.94e-05  3.15e-02  2.62e-01  2.77e-02  3.54e-02 \n",
      "   500| 2.79e-03  4.58e-06  3.05e-02  2.62e-01  2.77e-02  6.85e-02 \n",
      "   750| 2.68e-03  2.98e-06  3.00e-02  2.62e-01  2.77e-02  1.01e-01 \n",
      "  1000| 2.69e-03  2.61e-06  2.95e-02  2.63e-01  2.77e-02  1.24e-01 \n",
      "  1250| 2.69e-03  2.45e-06  2.89e-02  2.63e-01  2.77e-02  1.47e-01 \n",
      "  1500| 2.69e-03  2.34e-06  2.85e-02  2.63e-01  2.77e-02  1.70e-01 \n",
      "  1750| 2.69e-03  2.27e-06  2.80e-02  2.63e-01  2.77e-02  1.93e-01 \n",
      "  2000| 2.69e-03  2.21e-06  2.75e-02  2.64e-01  2.77e-02  2.15e-01 \n",
      "  2250| 2.70e-03  2.16e-06  2.70e-02  2.64e-01  2.77e-02  2.39e-01 \n",
      "  2500| 2.70e-03  2.12e-06  2.66e-02  2.64e-01  2.77e-02  2.62e-01 \n",
      "  2750| 2.70e-03  2.08e-06  2.61e-02  2.64e-01  2.77e-02  2.86e-01 \n",
      "  3000| 2.70e-03  2.05e-06  2.57e-02  2.64e-01  2.77e-02  3.08e-01 \n",
      "  3250| 2.70e-03  2.01e-06  2.52e-02  2.65e-01  2.77e-02  3.30e-01 \n",
      "  3500| 2.70e-03  5.78e-06  2.30e-02  2.66e-01  8.77e-02  3.52e-01 \n",
      "  3750| 2.70e-03  5.42e-06  2.16e-02  2.67e-01  8.77e-02  3.74e-01 \n",
      "  4000| 2.70e-03  5.06e-06  2.02e-02  2.67e-01  8.77e-02  3.96e-01 \n",
      "  4250| 2.70e-03  4.69e-06  1.88e-02  2.68e-01  8.77e-02  4.19e-01 \n",
      "  4500| 2.70e-03  4.33e-06  1.75e-02  2.69e-01  8.77e-02  4.41e-01 \n",
      "  4750| 2.70e-03  3.96e-06  1.61e-02  2.69e-01  8.77e-02  4.64e-01 \n",
      "  5000| 2.70e-03  3.59e-06  1.47e-02  2.70e-01  8.77e-02  4.87e-01 \n",
      "  5250| 2.70e-03  3.27e-06  1.33e-02  2.71e-01  8.77e-02  5.09e-01 \n",
      "  5500| 2.70e-03  2.96e-06  1.20e-02  2.71e-01  8.77e-02  5.32e-01 \n",
      "  5750| 2.70e-03  2.64e-06  1.06e-02  2.72e-01  8.77e-02  5.53e-01 \n",
      "  6000| 2.70e-03  2.33e-06  9.24e-03  2.73e-01  8.77e-02  5.75e-01 \n",
      "  6250| 2.70e-03  2.01e-06  7.87e-03  2.73e-01  8.77e-02  5.97e-01 \n",
      "  6500| 2.70e-03  1.69e-06  6.50e-03  2.74e-01  8.77e-02  6.18e-01 \n",
      "  6750| 2.70e-03  1.37e-06  5.13e-03  2.75e-01  8.77e-02  6.40e-01 \n",
      "  7000| 2.70e-03  1.05e-06  3.76e-03  2.75e-01  8.77e-02  6.61e-01 \n",
      "  7250| 2.70e-03  7.30e-07  2.40e-03  2.76e-01  8.77e-02  6.83e-01 \n",
      "  7500| 1.22e-05  2.07e-06  1.25e-05  2.77e-01  2.78e-01  7.05e-01 \n",
      "------------------------------------------------------------------\n",
      "status:  solved\n",
      "timings: total: 7.06e-01s = setup: 1.67e-03s + solve: 7.05e-01s\n",
      "\t lin-sys: 5.80e-02s, cones: 5.95e-01s, accel: 0.00e+00s\n",
      "------------------------------------------------------------------\n",
      "objective = 0.277073\n",
      "------------------------------------------------------------------\n"
     ]
    }
   ],
   "source": [
    "set_optimizer(semisimple_model, scs_opt(verbose=true))\n",
    "optimize!(semisimple_model)"
   ]
  },
  {
   "cell_type": "code",
   "execution_count": null,
   "id": "d032eb03",
   "metadata": {},
   "outputs": [],
   "source": []
  },
  {
   "cell_type": "code",
   "execution_count": null,
   "id": "7cedd700",
   "metadata": {},
   "outputs": [],
   "source": []
  }
 ],
 "metadata": {
  "kernelspec": {
   "display_name": "Julia 1.7.3",
   "language": "julia",
   "name": "julia-1.7"
  },
  "language_info": {
   "file_extension": ".jl",
   "mimetype": "application/julia",
   "name": "julia",
   "version": "1.7.3"
  }
 },
 "nbformat": 4,
 "nbformat_minor": 5
}
