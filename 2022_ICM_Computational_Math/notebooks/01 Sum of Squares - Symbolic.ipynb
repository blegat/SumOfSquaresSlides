{
 "cells": [
  {
   "cell_type": "code",
   "execution_count": 8,
   "metadata": {
    "ExecuteTime": {
     "end_time": "2021-02-03T15:27:07.426000+01:00",
     "start_time": "2021-02-03T14:27:04.362Z"
    }
   },
   "outputs": [
    {
     "name": "stdout",
     "output_type": "stream",
     "text": [
      "\u001b[32m\u001b[1m      Status\u001b[22m\u001b[39m `~/Mathematics/Conferences/Presentations/SumOfSquaresSlides/2022_ICM_Computational_Math/Project.toml`\n",
      " \u001b[90m [7c1d4256] \u001b[39mDynamicPolynomials v0.4.5\n",
      " \u001b[90m [7073ff75] \u001b[39mIJulia v1.23.3\n",
      " \u001b[90m [4076af6c] \u001b[39mJuMP v1.1.1\n",
      " \u001b[90m [8bc5a954] \u001b[39mPermutationGroups v0.3.2\n",
      " \u001b[90m [c946c3f1] \u001b[39mSCS v1.1.2\n",
      " \u001b[90m [4b9e565b] \u001b[39mSumOfSquares v0.6.2\n",
      " \u001b[90m [24249f21] \u001b[39mSymPy v1.1.6\n",
      " \u001b[90m [858aa9a9] \u001b[39mSymbolicWedderburn v0.3.0\n"
     ]
    }
   ],
   "source": [
    "using Pkg\n",
    "# Pkg.instantiate()\n",
    "Pkg.status()"
   ]
  },
  {
   "cell_type": "code",
   "execution_count": 9,
   "metadata": {
    "ExecuteTime": {
     "end_time": "2021-02-03T15:27:08.289000+01:00",
     "start_time": "2021-02-03T14:27:08.286Z"
    }
   },
   "outputs": [],
   "source": [
    "using SymPy\n",
    "using LinearAlgebra"
   ]
  },
  {
   "cell_type": "markdown",
   "metadata": {},
   "source": [
    "# Example\n",
    "> When is a quadratic polynomial in one variable decomposable as sum of squares?  "
   ]
  },
  {
   "cell_type": "markdown",
   "metadata": {},
   "source": [
    "**Solution** Let us assume that $p = ax^2 + bx + c$ is an arbitrary polynomial in $\\mathbb{R}[x]$. We may assume that $a > 0$."
   ]
  },
  {
   "cell_type": "code",
   "execution_count": 10,
   "metadata": {
    "ExecuteTime": {
     "end_time": "2021-02-03T15:30:51.812000+01:00",
     "start_time": "2021-02-03T14:30:51.789Z"
    }
   },
   "outputs": [
    {
     "data": {
      "text/plain": [
       "(x, b, c)"
      ]
     },
     "execution_count": 10,
     "metadata": {},
     "output_type": "execute_result"
    }
   ],
   "source": [
    "a = symbols(\"a\", positive=true)\n",
    "x, b, c = symbols(\"x b c\", real=true)"
   ]
  },
  {
   "cell_type": "code",
   "execution_count": 11,
   "metadata": {
    "ExecuteTime": {
     "end_time": "2021-02-03T15:30:54.042000+01:00",
     "start_time": "2021-02-03T14:30:53.934Z"
    }
   },
   "outputs": [
    {
     "data": {
      "text/latex": [
       "$a x^{2} + b x + c$"
      ],
      "text/plain": [
       "   2          \n",
       "a⋅x  + b⋅x + c"
      ]
     },
     "execution_count": 11,
     "metadata": {},
     "output_type": "execute_result"
    }
   ],
   "source": [
    "p = a*x^2 + b*x + c"
   ]
  },
  {
   "cell_type": "markdown",
   "metadata": {},
   "source": [
    "Let us define the monomial basis: $m_1 = [1, x]$ (as a row vector)"
   ]
  },
  {
   "cell_type": "code",
   "execution_count": 12,
   "metadata": {
    "ExecuteTime": {
     "end_time": "2021-02-03T15:31:04.169000+01:00",
     "start_time": "2021-02-03T14:31:01.439Z"
    }
   },
   "outputs": [
    {
     "data": {
      "text/latex": [
       "$\\left[ \\begin{array}{rr}1&x\\end{array}\\right]$\n"
      ],
      "text/plain": [
       "1×2 transpose(::Vector{Sym}) with eltype Sym:\n",
       " 1  x"
      ]
     },
     "execution_count": 12,
     "metadata": {},
     "output_type": "execute_result"
    }
   ],
   "source": [
    "m₁ = transpose(Sym[1, x])"
   ]
  },
  {
   "cell_type": "markdown",
   "metadata": {
    "ExecuteTime": {
     "end_time": "2018-12-20T04:20:32.236000+01:00",
     "start_time": "2018-12-20T03:20:32.226Z"
    }
   },
   "source": [
    "and define $P$ as"
   ]
  },
  {
   "cell_type": "code",
   "execution_count": 13,
   "metadata": {
    "ExecuteTime": {
     "end_time": "2021-02-03T15:31:12.739000+01:00",
     "start_time": "2021-02-03T14:31:12.712Z"
    }
   },
   "outputs": [
    {
     "data": {
      "text/latex": [
       "$\\left[ \\begin{array}{rr}c&\\frac{b}{2}\\\\\\frac{b}{2}&a\\end{array}\\right]$\n"
      ],
      "text/plain": [
       "2×2 Matrix{Sym}:\n",
       "   c  b/2\n",
       " b/2    a"
      ]
     },
     "execution_count": 13,
     "metadata": {},
     "output_type": "execute_result"
    }
   ],
   "source": [
    "P = Sym[c b/2; b/2 a]"
   ]
  },
  {
   "cell_type": "markdown",
   "metadata": {},
   "source": [
    "Let us check, that the $m·P·m^T$ does what it is supposed to do:"
   ]
  },
  {
   "cell_type": "code",
   "execution_count": 14,
   "metadata": {
    "ExecuteTime": {
     "end_time": "2021-02-03T15:31:47.316000+01:00",
     "start_time": "2021-02-03T14:31:46.253Z"
    }
   },
   "outputs": [
    {
     "data": {
      "text/latex": [
       "$a x^{2} + b x + c$"
      ],
      "text/plain": [
       "   2          \n",
       "a⋅x  + b⋅x + c"
      ]
     },
     "execution_count": 14,
     "metadata": {},
     "output_type": "execute_result"
    }
   ],
   "source": [
    "ex = simplify(m₁*P*m₁')\n",
    "@assert ex == p\n",
    "ex"
   ]
  },
  {
   "cell_type": "markdown",
   "metadata": {},
   "source": [
    "Now we take $LDL^T$-decomposition of $P$, i.e. we find: a **lower-triangular** matrix $L$ and a **diagonal** matrix $D$ such that $$L·D·L^T = P$$\n",
    "\n",
    "$$L·\\sqrt D · (\\sqrt D )^T·L^T = L·\\sqrt D · \\left(L·\\sqrt D \\right)^T = P$$\n",
    "\n",
    "Then $\\sqrt P  = L\\cdot\\sqrt D$"
   ]
  },
  {
   "cell_type": "code",
   "execution_count": 15,
   "metadata": {
    "ExecuteTime": {
     "end_time": "2021-02-03T15:34:18.143000+01:00",
     "start_time": "2021-02-03T14:34:17.436Z"
    }
   },
   "outputs": [
    {
     "data": {
      "text/latex": [
       "$\\left[ \\begin{array}{rr}1&0\\\\\\frac{b}{2 c}&1\\end{array}\\right]$\n"
      ],
      "text/plain": [
       "2×2 Matrix{Sym}:\n",
       "       1  0\n",
       " b/(2*c)  1"
      ]
     },
     "execution_count": 15,
     "metadata": {},
     "output_type": "execute_result"
    }
   ],
   "source": [
    "L, D = sympy.Matrix(P).LDLdecomposition()\n",
    "@assert L*D*L' == P\n",
    "L"
   ]
  },
  {
   "cell_type": "markdown",
   "metadata": {
    "ExecuteTime": {
     "end_time": "2018-12-20T04:28:56.988000+01:00",
     "start_time": "2018-12-20T03:28:56.948Z"
    }
   },
   "source": [
    "Using $L$ and $D$ we may define $$Q = L·\\sqrt{D},$$ which is a matrix square root of $P$, i.e. \n",
    "$$Q·Q^T = \\left(L\\sqrt{D}\\right)·\\left(L\\sqrt{D}\\right)^T = L·\\left(\\sqrt{D}\\sqrt{D}\\right)·L^T = P.$$\n",
    "\n",
    "Thus the columns of $Q$ provide candidates for summands in SOS-decomposition:\n",
    "$$ p = [1,x]·P·\\begin{bmatrix}1\\\\x\\end{bmatrix}\n",
    "= \\left([1,x]·(L\\sqrt{D})\\right)·\\left([1,x]·(L\\sqrt{D})\\right)^T = \\left([1,x]Q\\right)·\\left([1,x]Q\\right)^T\n",
    "$$"
   ]
  },
  {
   "cell_type": "code",
   "execution_count": 16,
   "metadata": {
    "ExecuteTime": {
     "end_time": "2021-02-03T15:39:33.862000+01:00",
     "start_time": "2021-02-03T14:39:33.660Z"
    }
   },
   "outputs": [
    {
     "data": {
      "text/latex": [
       "$\\left[ \\begin{array}{rr}\\sqrt{c}&0\\\\\\frac{b}{2 \\sqrt{c}}&\\sqrt{a - \\frac{b^{2}}{4 c}}\\end{array}\\right]$\n"
      ],
      "text/plain": [
       "2×2 Matrix{Sym}:\n",
       "       √c                    0\n",
       " b/(2*sqrt(c))  sqrt(a - b^2/(4*c))"
      ]
     },
     "execution_count": 16,
     "metadata": {},
     "output_type": "execute_result"
    }
   ],
   "source": [
    "Q = L*sqrt.(D)\n",
    "Q"
   ]
  },
  {
   "cell_type": "markdown",
   "metadata": {},
   "source": [
    "remember we want to express $p$ as a sum of (two) squares: $f₁^2 + f₂^2$"
   ]
  },
  {
   "cell_type": "code",
   "execution_count": 17,
   "metadata": {
    "ExecuteTime": {
     "end_time": "2021-02-03T15:39:57.050000+01:00",
     "start_time": "2021-02-03T14:39:57.014Z"
    }
   },
   "outputs": [
    {
     "data": {
      "text/latex": [
       "$\\left[ \\begin{array}{rr}\\frac{b x}{2 \\sqrt{c}} + \\sqrt{c}&x \\sqrt{a - \\frac{b^{2}}{4 c}}\\end{array}\\right]$\n"
      ],
      "text/plain": [
       "1×2 transpose(::Vector{Sym}) with eltype Sym:\n",
       " b*x/(2*sqrt(c)) + sqrt(c)  x*sqrt(a - b^2/(4*c))"
      ]
     },
     "execution_count": 17,
     "metadata": {},
     "output_type": "execute_result"
    }
   ],
   "source": [
    "f = m₁*Q"
   ]
  },
  {
   "cell_type": "code",
   "execution_count": 18,
   "metadata": {},
   "outputs": [
    {
     "data": {
      "text/plain": [
       "true"
      ]
     },
     "execution_count": 18,
     "metadata": {},
     "output_type": "execute_result"
    }
   ],
   "source": [
    "simplify(f[1]^2 + f[2]^2) == p"
   ]
  },
  {
   "cell_type": "markdown",
   "metadata": {},
   "source": [
    "For this to be a sum of squares we just need that $c>0$ and $$a - \\frac{b^2}{4c} ≥ 0,$$\n",
    "i.e.\n",
    "$$b^2 - 4ac ≤ 0.$$"
   ]
  },
  {
   "cell_type": "code",
   "execution_count": null,
   "metadata": {},
   "outputs": [],
   "source": []
  },
  {
   "cell_type": "markdown",
   "metadata": {},
   "source": [
    "# Example\n",
    "> Formulate the sum of squares decomposition problem as the feasibility of a semi-definite program for a polynomial in one variable of degree no larger than $4$."
   ]
  },
  {
   "cell_type": "markdown",
   "metadata": {},
   "source": [
    "**Solution**: Let $f\\in \\mathbb{R}[x]$ be an arbitrary polynomial in $x$ of degree not greater than $4$, i.e.\n",
    "$$f = C_0 + C_1x + C_2x^2 + C_3x^3 + C_4x^4.$$\n",
    "\n",
    "This time our monomial basis $m_2$ will consist of three elements:"
   ]
  },
  {
   "cell_type": "code",
   "execution_count": 19,
   "metadata": {
    "ExecuteTime": {
     "end_time": "2021-02-03T15:46:19.190000+01:00",
     "start_time": "2021-02-03T14:46:19.184Z"
    }
   },
   "outputs": [
    {
     "data": {
      "text/latex": [
       "$\\left[ \\begin{array}{rrr}1&x&x^{2}\\end{array}\\right]$\n"
      ],
      "text/plain": [
       "1×3 Matrix{Sym}:\n",
       " 1  x  x^2"
      ]
     },
     "execution_count": 19,
     "metadata": {},
     "output_type": "execute_result"
    }
   ],
   "source": [
    "m₂ = [1 x x^2]"
   ]
  },
  {
   "cell_type": "code",
   "execution_count": 20,
   "metadata": {
    "ExecuteTime": {
     "end_time": "2021-02-03T15:46:36.016000+01:00",
     "start_time": "2021-02-03T14:46:35.999Z"
    }
   },
   "outputs": [
    {
     "data": {
      "text/latex": [
       "$\\left[ \\begin{array}{rrr}p_{00}&p_{10}&p_{20}\\\\p_{10}&p_{11}&p_{21}\\\\p_{20}&p_{21}&p_{22}\\end{array}\\right]$\n"
      ],
      "text/plain": [
       "3×3 Symmetric{Sym, Matrix{Sym}}:\n",
       " p₀₀  p₁₀  p₂₀\n",
       " p₁₀  p₁₁  p₂₁\n",
       " p₂₀  p₂₁  p₂₂"
      ]
     },
     "execution_count": 20,
     "metadata": {},
     "output_type": "execute_result"
    }
   ],
   "source": [
    "P = let p = collect(symbols(\"p(0:3)(0:3)\", real=true))\n",
    "    P = Symmetric(reshape(p, 3,3))\n",
    "end"
   ]
  },
  {
   "cell_type": "markdown",
   "metadata": {},
   "source": [
    "We need to evaluate"
   ]
  },
  {
   "cell_type": "code",
   "execution_count": 24,
   "metadata": {
    "ExecuteTime": {
     "end_time": "2021-02-03T15:46:57.259000+01:00",
     "start_time": "2021-02-03T14:46:55.820Z"
    }
   },
   "outputs": [
    {
     "data": {
      "text/latex": [
       "$p_{00} + 2 p_{10} x + 2 p_{21} x^{3} + p_{22} x^{4} + x^{2} \\left(p_{11} + 2 p_{20}\\right)$"
      ],
      "text/plain": [
       "                       3        4    2              \n",
       "p₀₀ + 2⋅p₁₀⋅x + 2⋅p₂₁⋅x  + p₂₂⋅x  + x ⋅(p₁₁ + 2⋅p₂₀)"
      ]
     },
     "execution_count": 24,
     "metadata": {},
     "output_type": "execute_result"
    }
   ],
   "source": [
    "ex = (m₂*P*m₂')[1]\n",
    "collect(expand(ex), x)"
   ]
  },
  {
   "cell_type": "code",
   "execution_count": 25,
   "metadata": {},
   "outputs": [
    {
     "data": {
      "text/latex": [
       "$p_{00} + 2 p_{10} x + 2 p_{21} x^{3} + p_{22} x^{4} + x^{2} \\left(p_{11} + 2 p_{20}\\right)$"
      ],
      "text/plain": [
       "                       3        4    2              \n",
       "p₀₀ + 2⋅p₁₀⋅x + 2⋅p₂₁⋅x  + p₂₂⋅x  + x ⋅(p₁₁ + 2⋅p₂₀)"
      ]
     },
     "execution_count": 25,
     "metadata": {},
     "output_type": "execute_result"
    }
   ],
   "source": [
    "collect(dot(m₂'*m₂, P), x)"
   ]
  },
  {
   "cell_type": "markdown",
   "metadata": {
    "ExecuteTime": {
     "end_time": "2018-12-20T04:45:24.284000+01:00",
     "start_time": "2018-12-20T03:45:24.260Z"
    }
   },
   "source": [
    "How does the resulting polynomial $m·P·m^T$ depends on $P$? "
   ]
  },
  {
   "cell_type": "markdown",
   "metadata": {},
   "source": [
    "Comparing this to the given (arbitrary) polynomial $f$:"
   ]
  },
  {
   "cell_type": "code",
   "execution_count": 31,
   "metadata": {
    "ExecuteTime": {
     "end_time": "2021-02-03T15:47:57.286000+01:00",
     "start_time": "2021-02-03T14:47:57.077Z"
    }
   },
   "outputs": [
    {
     "data": {
      "text/latex": [
       "$C_{0} + C_{1} x + C_{2} x^{2} + C_{3} x^{3} + C_{4} x^{4}$"
      ],
      "text/plain": [
       "                2       3       4\n",
       "C₀ + C₁⋅x + C₂⋅x  + C₃⋅x  + C₄⋅x "
      ]
     },
     "execution_count": 31,
     "metadata": {},
     "output_type": "execute_result"
    }
   ],
   "source": [
    "cfs = symbols(\"C0:5\", real=true)\n",
    "f = sum(cfs[i]*x^(i-1) for i in 1:5)"
   ]
  },
  {
   "cell_type": "code",
   "execution_count": 32,
   "metadata": {
    "ExecuteTime": {
     "end_time": "2021-02-03T15:48:05.452000+01:00",
     "start_time": "2021-02-03T14:48:05.276Z"
    }
   },
   "outputs": [
    {
     "data": {
      "text/latex": [
       "$p_{22} = C_{4}$"
      ],
      "text/plain": [
       "p₂₂ = C₄"
      ]
     },
     "metadata": {},
     "output_type": "display_data"
    },
    {
     "data": {
      "text/latex": [
       "$2 p_{21} = C_{3}$"
      ],
      "text/plain": [
       "2⋅p₂₁ = C₃"
      ]
     },
     "metadata": {},
     "output_type": "display_data"
    },
    {
     "data": {
      "text/latex": [
       "$p_{11} + 2 p_{20} = C_{2}$"
      ],
      "text/plain": [
       "p₁₁ + 2⋅p₂₀ = C₂"
      ]
     },
     "metadata": {},
     "output_type": "display_data"
    },
    {
     "data": {
      "text/latex": [
       "$2 p_{10} = C_{1}$"
      ],
      "text/plain": [
       "2⋅p₁₀ = C₁"
      ]
     },
     "metadata": {},
     "output_type": "display_data"
    },
    {
     "data": {
      "text/latex": [
       "$p_{00} = C_{0}$"
      ],
      "text/plain": [
       "p₀₀ = C₀"
      ]
     },
     "metadata": {},
     "output_type": "display_data"
    }
   ],
   "source": [
    "pex = ex.as_poly(x)\n",
    "pf = f.as_poly(x)\n",
    "for (a,b) in zip(pex.coeffs(), pf.coeffs())\n",
    "    display(Eq(a, b))\n",
    "end"
   ]
  },
  {
   "cell_type": "markdown",
   "metadata": {},
   "source": [
    "So the final semi-definite problem is as follows:\n",
    "$$\\begin{align*}\n",
    "\\quad & \\text{feasibility}\\\\\n",
    "\\text{Subject to:}\\quad & P = (p_{i,j}) \\succcurlyeq 0\\\\\n",
    "& p_{0,0} = C_0\\\\\n",
    "& 2p_{0,1} = C_1\\\\\n",
    "& 2p_{0,2} + p_{1,1} = C_2\\\\\n",
    "& 2p_{1,2}= C_3\\\\\n",
    "& p_{2,2} = C_4\\\\\n",
    "\\end{align*}$$"
   ]
  },
  {
   "cell_type": "code",
   "execution_count": 26,
   "metadata": {},
   "outputs": [
    {
     "data": {
      "text/latex": [
       "$5 x^{4} + 4 x^{3} + 3 x^{2} + 2 x + 1$"
      ],
      "text/plain": [
       "   4      3      2          \n",
       "5⋅x  + 4⋅x  + 3⋅x  + 2⋅x + 1"
      ]
     },
     "execution_count": 26,
     "metadata": {},
     "output_type": "execute_result"
    }
   ],
   "source": [
    "C = [1, 2, 3, 4, 5];\n",
    "f = dot([1 x x^2 x^3 x^4], C)"
   ]
  },
  {
   "cell_type": "code",
   "execution_count": 27,
   "metadata": {},
   "outputs": [
    {
     "data": {
      "text/plain": [
       "A JuMP Model\n",
       "Feasibility problem with:\n",
       "Variables: 6\n",
       "`AffExpr`-in-`MathOptInterface.EqualTo{Float64}`: 5 constraints\n",
       "`Vector{VariableRef}`-in-`MathOptInterface.PositiveSemidefiniteConeTriangle`: 1 constraint\n",
       "Model mode: AUTOMATIC\n",
       "CachingOptimizer state: NO_OPTIMIZER\n",
       "Solver name: No optimizer attached.\n",
       "Names registered in the model: P"
      ]
     },
     "execution_count": 27,
     "metadata": {},
     "output_type": "execute_result"
    }
   ],
   "source": [
    "using JuMP\n",
    "M = Model()\n",
    "@variable M P[1:3,1:3] Symmetric\n",
    "@constraints(M, begin # shifting indices by one!\n",
    "    P[1,1] == C[1]\n",
    "    2P[1,2] == C[2]\n",
    "    2P[1,3] + P[1,1] == C[3]\n",
    "    2P[2,3] == C[4]\n",
    "    P[3,3] == C[5]\n",
    "    P in PSDCone() # P >= 0\n",
    "    end)\n",
    "M"
   ]
  },
  {
   "cell_type": "markdown",
   "metadata": {},
   "source": [
    "# Motzkin example"
   ]
  },
  {
   "cell_type": "code",
   "execution_count": 28,
   "metadata": {
    "ExecuteTime": {
     "end_time": "2021-02-03T15:50:16.337000+01:00",
     "start_time": "2021-02-03T14:50:16.305Z"
    }
   },
   "outputs": [
    {
     "data": {
      "text/latex": [
       "$x^{4} y^{2} + x^{2} y^{4} - 3 x^{2} y^{2} + 1$"
      ],
      "text/plain": [
       " 4  2    2  4      2  2    \n",
       "x ⋅y  + x ⋅y  - 3⋅x ⋅y  + 1"
      ]
     },
     "execution_count": 28,
     "metadata": {},
     "output_type": "execute_result"
    }
   ],
   "source": [
    "x,y = symbols(\"x y\", real=true);\n",
    "Motzkin = x^4*y^2 + x^2*y^4 - 3x^2*y^2 + 1"
   ]
  },
  {
   "cell_type": "code",
   "execution_count": 29,
   "metadata": {
    "ExecuteTime": {
     "end_time": "2021-02-03T15:50:22.898000+01:00",
     "start_time": "2021-02-03T14:50:22.615Z"
    }
   },
   "outputs": [
    {
     "data": {
      "text/latex": [
       "$\\left[ \\begin{array}{rrrrrrrrrr}1&x&y&x^{2}&x y&y^{2}&x^{3}&x^{2} y&x y^{2}&y^{3}\\end{array}\\right]$\n"
      ],
      "text/plain": [
       "1×10 transpose(::Vector{Sym}) with eltype Sym:\n",
       " 1  x  y  x^2  x⋅y  y^2  x^3  x^2*y  x*y^2  y^3"
      ]
     },
     "execution_count": 29,
     "metadata": {},
     "output_type": "execute_result"
    }
   ],
   "source": [
    "monomials(d::Int, x, y) = [x^(d-i)*y^(i) for i in 0:d]\n",
    "function monomials(iter, x, y)\n",
    "    m = Sym[]\n",
    "    for d in iter\n",
    "        append!(m, monomials(d, x, y))\n",
    "    end\n",
    "    return m\n",
    "end\n",
    "m₃ = transpose(monomials(0:3, x, y))"
   ]
  },
  {
   "cell_type": "code",
   "execution_count": 30,
   "metadata": {
    "ExecuteTime": {
     "end_time": "2021-02-03T15:50:43.685000+01:00",
     "start_time": "2021-02-03T14:50:43.602Z"
    }
   },
   "outputs": [
    {
     "data": {
      "text/latex": [
       "$\\left[ \\begin{array}{rrrrrrrrrr}p_{00}&p_{10}&p_{20}&p_{30}&p_{40}&p_{50}&p_{60}&p_{70}&p_{80}&p_{90}\\\\p_{10}&p_{11}&p_{21}&p_{31}&p_{41}&p_{51}&p_{61}&p_{71}&p_{81}&p_{91}\\\\p_{20}&p_{21}&p_{22}&p_{32}&p_{42}&p_{52}&p_{62}&p_{72}&p_{82}&p_{92}\\\\p_{30}&p_{31}&p_{32}&p_{33}&p_{43}&p_{53}&p_{63}&p_{73}&p_{83}&p_{93}\\\\p_{40}&p_{41}&p_{42}&p_{43}&p_{44}&p_{54}&p_{64}&p_{74}&p_{84}&p_{94}\\\\p_{50}&p_{51}&p_{52}&p_{53}&p_{54}&p_{55}&p_{65}&p_{75}&p_{85}&p_{95}\\\\p_{60}&p_{61}&p_{62}&p_{63}&p_{64}&p_{65}&p_{66}&p_{76}&p_{86}&p_{96}\\\\p_{70}&p_{71}&p_{72}&p_{73}&p_{74}&p_{75}&p_{76}&p_{77}&p_{87}&p_{97}\\\\p_{80}&p_{81}&p_{82}&p_{83}&p_{84}&p_{85}&p_{86}&p_{87}&p_{88}&p_{98}\\\\p_{90}&p_{91}&p_{92}&p_{93}&p_{94}&p_{95}&p_{96}&p_{97}&p_{98}&p_{99}\\end{array}\\right]$\n"
      ],
      "text/plain": [
       "10×10 Symmetric{Sym, Matrix{Sym}}:\n",
       " p₀₀  p₁₀  p₂₀  p₃₀  p₄₀  p₅₀  p₆₀  p₇₀  p₈₀  p₉₀\n",
       " p₁₀  p₁₁  p₂₁  p₃₁  p₄₁  p₅₁  p₆₁  p₇₁  p₈₁  p₉₁\n",
       " p₂₀  p₂₁  p₂₂  p₃₂  p₄₂  p₅₂  p₆₂  p₇₂  p₈₂  p₉₂\n",
       " p₃₀  p₃₁  p₃₂  p₃₃  p₄₃  p₅₃  p₆₃  p₇₃  p₈₃  p₉₃\n",
       " p₄₀  p₄₁  p₄₂  p₄₃  p₄₄  p₅₄  p₆₄  p₇₄  p₈₄  p₉₄\n",
       " p₅₀  p₅₁  p₅₂  p₅₃  p₅₄  p₅₅  p₆₅  p₇₅  p₈₅  p₉₅\n",
       " p₆₀  p₆₁  p₆₂  p₆₃  p₆₄  p₆₅  p₆₆  p₇₆  p₈₆  p₉₆\n",
       " p₇₀  p₇₁  p₇₂  p₇₃  p₇₄  p₇₅  p₇₆  p₇₇  p₈₇  p₉₇\n",
       " p₈₀  p₈₁  p₈₂  p₈₃  p₈₄  p₈₅  p₈₆  p₈₇  p₈₈  p₉₈\n",
       " p₉₀  p₉₁  p₉₂  p₉₃  p₉₄  p₉₅  p₉₆  p₉₇  p₉₈  p₉₉"
      ]
     },
     "execution_count": 30,
     "metadata": {},
     "output_type": "execute_result"
    }
   ],
   "source": [
    "P = let l = length(m₃), p = collect(symbols(\"p(0:$l)(0:$l)\", real=true))\n",
    "    Symmetric(reshape(p, l,l))\n",
    "end"
   ]
  },
  {
   "cell_type": "code",
   "execution_count": 31,
   "metadata": {
    "ExecuteTime": {
     "end_time": "2021-02-03T15:50:58.530000+01:00",
     "start_time": "2021-02-03T14:50:57.915Z"
    }
   },
   "outputs": [
    {
     "data": {
      "text/latex": [
       "$\\left[\\begin{smallmatrix}1 & x & y & x^{2} & x y & y^{2} & x^{3} & x^{2} y & x y^{2} & y^{3}\\end{smallmatrix}\\right] \\left[\\begin{smallmatrix}p_{00} & p_{10} & p_{20} & p_{30} & p_{40} & p_{50} & p_{60} & p_{70} & p_{80} & p_{90}\\\\p_{10} & p_{11} & p_{21} & p_{31} & p_{41} & p_{51} & p_{61} & p_{71} & p_{81} & p_{91}\\\\p_{20} & p_{21} & p_{22} & p_{32} & p_{42} & p_{52} & p_{62} & p_{72} & p_{82} & p_{92}\\\\p_{30} & p_{31} & p_{32} & p_{33} & p_{43} & p_{53} & p_{63} & p_{73} & p_{83} & p_{93}\\\\p_{40} & p_{41} & p_{42} & p_{43} & p_{44} & p_{54} & p_{64} & p_{74} & p_{84} & p_{94}\\\\p_{50} & p_{51} & p_{52} & p_{53} & p_{54} & p_{55} & p_{65} & p_{75} & p_{85} & p_{95}\\\\p_{60} & p_{61} & p_{62} & p_{63} & p_{64} & p_{65} & p_{66} & p_{76} & p_{86} & p_{96}\\\\p_{70} & p_{71} & p_{72} & p_{73} & p_{74} & p_{75} & p_{76} & p_{77} & p_{87} & p_{97}\\\\p_{80} & p_{81} & p_{82} & p_{83} & p_{84} & p_{85} & p_{86} & p_{87} & p_{88} & p_{98}\\\\p_{90} & p_{91} & p_{92} & p_{93} & p_{94} & p_{95} & p_{96} & p_{97} & p_{98} & p_{99}\\end{smallmatrix}\\right] \\left[\\begin{smallmatrix}1\\\\x\\\\y\\\\x^{2}\\\\x y\\\\y^{2}\\\\x^{3}\\\\x^{2} y\\\\x y^{2}\\\\y^{3}\\end{smallmatrix}\\right]$"
      ],
      "text/plain": [
       "                                                                              \n",
       "                                                                              \n",
       "                                                                              \n",
       "                                           ⎡p₀₀  p₁₀  p₂₀  p₃₀  p₄₀  p₅₀  p₆₀ \n",
       "                                           ⎢                                  \n",
       "                                           ⎢p₁₀  p₁₁  p₂₁  p₃₁  p₄₁  p₅₁  p₆₁ \n",
       "                                           ⎢                                  \n",
       "                                           ⎢p₂₀  p₂₁  p₂₂  p₃₂  p₄₂  p₅₂  p₆₂ \n",
       "                                           ⎢                                  \n",
       "                                           ⎢p₃₀  p₃₁  p₃₂  p₃₃  p₄₃  p₅₃  p₆₃ \n",
       "                                           ⎢                                  \n",
       "⎡          2        2   3   2       2   3⎤ ⎢p₄₀  p₄₁  p₄₂  p₄₃  p₄₄  p₅₄  p₆₄ \n",
       "⎣1  x  y  x   x⋅y  y   x   x ⋅y  x⋅y   y ⎦⋅⎢                                  \n",
       "                                           ⎢p₅₀  p₅₁  p₅₂  p₅₃  p₅₄  p₅₅  p₆₅ \n",
       "                                           ⎢                                  \n",
       "                                           ⎢p₆₀  p₆₁  p₆₂  p₆₃  p₆₄  p₆₅  p₆₆ \n",
       "                                           ⎢                                  \n",
       "                                           ⎢p₇₀  p₇₁  p₇₂  p₇₃  p₇₄  p₇₅  p₇₆ \n",
       "                                           ⎢                                  \n",
       "                                           ⎢p₈₀  p₈₁  p₈₂  p₈₃  p₈₄  p₈₅  p₈₆ \n",
       "                                           ⎢                                  \n",
       "                                           ⎣p₉₀  p₉₁  p₉₂  p₉₃  p₉₄  p₉₅  p₉₆ \n",
       "                                                                              \n",
       "                                                                              \n",
       "                                                                              \n",
       "\n",
       "                ⎡ 1  ⎤\n",
       "                ⎢    ⎥\n",
       "                ⎢ x  ⎥\n",
       " p₇₀  p₈₀  p₉₀⎤ ⎢    ⎥\n",
       "              ⎥ ⎢ y  ⎥\n",
       " p₇₁  p₈₁  p₉₁⎥ ⎢    ⎥\n",
       "              ⎥ ⎢  2 ⎥\n",
       " p₇₂  p₈₂  p₉₂⎥ ⎢ x  ⎥\n",
       "              ⎥ ⎢    ⎥\n",
       " p₇₃  p₈₃  p₉₃⎥ ⎢x⋅y ⎥\n",
       "              ⎥ ⎢    ⎥\n",
       " p₇₄  p₈₄  p₉₄⎥ ⎢  2 ⎥\n",
       "              ⎥⋅⎢ y  ⎥\n",
       " p₇₅  p₈₅  p₉₅⎥ ⎢    ⎥\n",
       "              ⎥ ⎢  3 ⎥\n",
       " p₇₆  p₈₆  p₉₆⎥ ⎢ x  ⎥\n",
       "              ⎥ ⎢    ⎥\n",
       " p₇₇  p₈₇  p₉₇⎥ ⎢ 2  ⎥\n",
       "              ⎥ ⎢x ⋅y⎥\n",
       " p₈₇  p₈₈  p₉₈⎥ ⎢    ⎥\n",
       "              ⎥ ⎢   2⎥\n",
       " p₉₇  p₉₈  p₉₉⎦ ⎢x⋅y ⎥\n",
       "                ⎢    ⎥\n",
       "                ⎢  3 ⎥\n",
       "                ⎣ y  ⎦"
      ]
     },
     "execution_count": 31,
     "metadata": {},
     "output_type": "execute_result"
    }
   ],
   "source": [
    "sympy.MatMul(Matrix(m₃), P, Matrix(m₃'))"
   ]
  },
  {
   "cell_type": "code",
   "execution_count": 32,
   "metadata": {
    "ExecuteTime": {
     "end_time": "2021-02-03T15:51:17.391000+01:00",
     "start_time": "2021-02-03T14:51:16.369Z"
    }
   },
   "outputs": [
    {
     "data": {
      "text/latex": [
       "$p_{00} + 2 p_{10} x + p_{11} x^{2} + 2 p_{20} y + 2 p_{21} x y + p_{22} y^{2} + 2 p_{30} x^{2} + 2 p_{31} x^{3} + 2 p_{32} x^{2} y + p_{33} x^{4} + 2 p_{40} x y + 2 p_{41} x^{2} y + 2 p_{42} x y^{2} + 2 p_{43} x^{3} y + p_{44} x^{2} y^{2} + 2 p_{50} y^{2} + 2 p_{51} x y^{2} + 2 p_{52} y^{3} + 2 p_{53} x^{2} y^{2} + 2 p_{54} x y^{3} + p_{55} y^{4} + 2 p_{60} x^{3} + 2 p_{61} x^{4} + 2 p_{62} x^{3} y + 2 p_{63} x^{5} + 2 p_{64} x^{4} y + 2 p_{65} x^{3} y^{2} + p_{66} x^{6} + 2 p_{70} x^{2} y + 2 p_{71} x^{3} y + 2 p_{72} x^{2} y^{2} + 2 p_{73} x^{4} y + 2 p_{74} x^{3} y^{2} + 2 p_{75} x^{2} y^{3} + 2 p_{76} x^{5} y + p_{77} x^{4} y^{2} + 2 p_{80} x y^{2} + 2 p_{81} x^{2} y^{2} + 2 p_{82} x y^{3} + 2 p_{83} x^{3} y^{2} + 2 p_{84} x^{2} y^{3} + 2 p_{85} x y^{4} + 2 p_{86} x^{4} y^{2} + 2 p_{87} x^{3} y^{3} + p_{88} x^{2} y^{4} + 2 p_{90} y^{3} + 2 p_{91} x y^{3} + 2 p_{92} y^{4} + 2 p_{93} x^{2} y^{3} + 2 p_{94} x y^{4} + 2 p_{95} y^{5} + 2 p_{96} x^{3} y^{3} + 2 p_{97} x^{2} y^{4} + 2 p_{98} x y^{5} + p_{99} y^{6}$"
      ],
      "text/plain": [
       "                     2                              2          2          3   \n",
       "p₀₀ + 2⋅p₁₀⋅x + p₁₁⋅x  + 2⋅p₂₀⋅y + 2⋅p₂₁⋅x⋅y + p₂₂⋅y  + 2⋅p₃₀⋅x  + 2⋅p₃₁⋅x  + \n",
       "\n",
       "       2          4                      2              2          3          \n",
       "2⋅p₃₂⋅x ⋅y + p₃₃⋅x  + 2⋅p₄₀⋅x⋅y + 2⋅p₄₁⋅x ⋅y + 2⋅p₄₂⋅x⋅y  + 2⋅p₄₃⋅x ⋅y + p₄₄⋅x\n",
       "\n",
       "2  2          2            2          3          2  2            3        4   \n",
       " ⋅y  + 2⋅p₅₀⋅y  + 2⋅p₅₁⋅x⋅y  + 2⋅p₅₂⋅y  + 2⋅p₅₃⋅x ⋅y  + 2⋅p₅₄⋅x⋅y  + p₅₅⋅y  + \n",
       "\n",
       "       3          4          3            5          4            3  2        \n",
       "2⋅p₆₀⋅x  + 2⋅p₆₁⋅x  + 2⋅p₆₂⋅x ⋅y + 2⋅p₆₃⋅x  + 2⋅p₆₄⋅x ⋅y + 2⋅p₆₅⋅x ⋅y  + p₆₆⋅x\n",
       "\n",
       "6          2            3            2  2          4            3  2          \n",
       "  + 2⋅p₇₀⋅x ⋅y + 2⋅p₇₁⋅x ⋅y + 2⋅p₇₂⋅x ⋅y  + 2⋅p₇₃⋅x ⋅y + 2⋅p₇₄⋅x ⋅y  + 2⋅p₇₅⋅x\n",
       "\n",
       "2  3          5          4  2            2          2  2            3         \n",
       " ⋅y  + 2⋅p₇₆⋅x ⋅y + p₇₇⋅x ⋅y  + 2⋅p₈₀⋅x⋅y  + 2⋅p₈₁⋅x ⋅y  + 2⋅p₈₂⋅x⋅y  + 2⋅p₈₃⋅\n",
       "\n",
       " 3  2          2  3            4          4  2          3  3        2  4      \n",
       "x ⋅y  + 2⋅p₈₄⋅x ⋅y  + 2⋅p₈₅⋅x⋅y  + 2⋅p₈₆⋅x ⋅y  + 2⋅p₈₇⋅x ⋅y  + p₈₈⋅x ⋅y  + 2⋅p\n",
       "\n",
       "    3            3          4          2  3            4          5          3\n",
       "₉₀⋅y  + 2⋅p₉₁⋅x⋅y  + 2⋅p₉₂⋅y  + 2⋅p₉₃⋅x ⋅y  + 2⋅p₉₄⋅x⋅y  + 2⋅p₉₅⋅y  + 2⋅p₉₆⋅x \n",
       "\n",
       "  3          2  4            5        6\n",
       "⋅y  + 2⋅p₉₇⋅x ⋅y  + 2⋅p₉₈⋅x⋅y  + p₉₉⋅y "
      ]
     },
     "execution_count": 32,
     "metadata": {},
     "output_type": "execute_result"
    }
   ],
   "source": [
    "f = dot(m₃'*m₃, P)"
   ]
  },
  {
   "cell_type": "code",
   "execution_count": 33,
   "metadata": {
    "ExecuteTime": {
     "end_time": "2021-02-03T15:51:27.203000+01:00",
     "start_time": "2021-02-03T14:51:27.068Z"
    },
    "scrolled": false
   },
   "outputs": [
    {
     "data": {
      "text/latex": [
       "$\\operatorname{Poly}{\\left( x^{4}y^{2} + x^{2}y^{4} - 3 x^{2}y^{2} + 1, x, y, domain=\\mathbb{Z} \\right)}$"
      ],
      "text/plain": [
       "Poly(x**4*y**2 + x**2*y**4 - 3*x**2*y**2 + 1, x, y, domain='ZZ')"
      ]
     },
     "execution_count": 33,
     "metadata": {},
     "output_type": "execute_result"
    }
   ],
   "source": [
    "pf = sympy.Poly(f, x,y)\n",
    "pm = sympy.Poly(Motzkin, x,y)"
   ]
  },
  {
   "cell_type": "code",
   "execution_count": 34,
   "metadata": {
    "ExecuteTime": {
     "end_time": "2021-02-03T15:51:38.852000+01:00",
     "start_time": "2021-02-03T14:51:38.471Z"
    }
   },
   "outputs": [
    {
     "data": {
      "text/latex": [
       "$p_{00} = 1$"
      ],
      "text/plain": [
       "p₀₀ = 1"
      ]
     },
     "metadata": {},
     "output_type": "display_data"
    },
    {
     "data": {
      "text/latex": [
       "$2 p_{10} = 0$"
      ],
      "text/plain": [
       "2⋅p₁₀ = 0"
      ]
     },
     "metadata": {},
     "output_type": "display_data"
    },
    {
     "data": {
      "text/latex": [
       "$2 p_{20} = 0$"
      ],
      "text/plain": [
       "2⋅p₂₀ = 0"
      ]
     },
     "metadata": {},
     "output_type": "display_data"
    },
    {
     "data": {
      "text/latex": [
       "$p_{11} + 2 p_{30} = 0$"
      ],
      "text/plain": [
       "p₁₁ + 2⋅p₃₀ = 0"
      ]
     },
     "metadata": {},
     "output_type": "display_data"
    },
    {
     "data": {
      "text/latex": [
       "$2 p_{21} + 2 p_{40} = 0$"
      ],
      "text/plain": [
       "2⋅p₂₁ + 2⋅p₄₀ = 0"
      ]
     },
     "metadata": {},
     "output_type": "display_data"
    },
    {
     "data": {
      "text/latex": [
       "$p_{22} + 2 p_{50} = 0$"
      ],
      "text/plain": [
       "p₂₂ + 2⋅p₅₀ = 0"
      ]
     },
     "metadata": {},
     "output_type": "display_data"
    },
    {
     "data": {
      "text/latex": [
       "$2 p_{31} + 2 p_{60} = 0$"
      ],
      "text/plain": [
       "2⋅p₃₁ + 2⋅p₆₀ = 0"
      ]
     },
     "metadata": {},
     "output_type": "display_data"
    },
    {
     "data": {
      "text/latex": [
       "$2 p_{32} + 2 p_{41} + 2 p_{70} = 0$"
      ],
      "text/plain": [
       "2⋅p₃₂ + 2⋅p₄₁ + 2⋅p₇₀ = 0"
      ]
     },
     "metadata": {},
     "output_type": "display_data"
    },
    {
     "data": {
      "text/latex": [
       "$2 p_{42} + 2 p_{51} + 2 p_{80} = 0$"
      ],
      "text/plain": [
       "2⋅p₄₂ + 2⋅p₅₁ + 2⋅p₈₀ = 0"
      ]
     },
     "metadata": {},
     "output_type": "display_data"
    },
    {
     "data": {
      "text/latex": [
       "$2 p_{52} + 2 p_{90} = 0$"
      ],
      "text/plain": [
       "2⋅p₅₂ + 2⋅p₉₀ = 0"
      ]
     },
     "metadata": {},
     "output_type": "display_data"
    },
    {
     "data": {
      "text/latex": [
       "$p_{33} + 2 p_{61} = 0$"
      ],
      "text/plain": [
       "p₃₃ + 2⋅p₆₁ = 0"
      ]
     },
     "metadata": {},
     "output_type": "display_data"
    },
    {
     "data": {
      "text/latex": [
       "$2 p_{43} + 2 p_{62} + 2 p_{71} = 0$"
      ],
      "text/plain": [
       "2⋅p₄₃ + 2⋅p₆₂ + 2⋅p₇₁ = 0"
      ]
     },
     "metadata": {},
     "output_type": "display_data"
    },
    {
     "data": {
      "text/latex": [
       "$p_{44} + 2 p_{53} + 2 p_{72} + 2 p_{81} = -3$"
      ],
      "text/plain": [
       "p₄₄ + 2⋅p₅₃ + 2⋅p₇₂ + 2⋅p₈₁ = -3"
      ]
     },
     "metadata": {},
     "output_type": "display_data"
    },
    {
     "data": {
      "text/latex": [
       "$2 p_{54} + 2 p_{82} + 2 p_{91} = 0$"
      ],
      "text/plain": [
       "2⋅p₅₄ + 2⋅p₈₂ + 2⋅p₉₁ = 0"
      ]
     },
     "metadata": {},
     "output_type": "display_data"
    },
    {
     "data": {
      "text/latex": [
       "$p_{55} + 2 p_{92} = 0$"
      ],
      "text/plain": [
       "p₅₅ + 2⋅p₉₂ = 0"
      ]
     },
     "metadata": {},
     "output_type": "display_data"
    },
    {
     "data": {
      "text/latex": [
       "$2 p_{63} = 0$"
      ],
      "text/plain": [
       "2⋅p₆₃ = 0"
      ]
     },
     "metadata": {},
     "output_type": "display_data"
    },
    {
     "data": {
      "text/latex": [
       "$2 p_{64} + 2 p_{73} = 0$"
      ],
      "text/plain": [
       "2⋅p₆₄ + 2⋅p₇₃ = 0"
      ]
     },
     "metadata": {},
     "output_type": "display_data"
    },
    {
     "data": {
      "text/latex": [
       "$2 p_{65} + 2 p_{74} + 2 p_{83} = 0$"
      ],
      "text/plain": [
       "2⋅p₆₅ + 2⋅p₇₄ + 2⋅p₈₃ = 0"
      ]
     },
     "metadata": {},
     "output_type": "display_data"
    },
    {
     "data": {
      "text/latex": [
       "$2 p_{75} + 2 p_{84} + 2 p_{93} = 0$"
      ],
      "text/plain": [
       "2⋅p₇₅ + 2⋅p₈₄ + 2⋅p₉₃ = 0"
      ]
     },
     "metadata": {},
     "output_type": "display_data"
    },
    {
     "data": {
      "text/latex": [
       "$2 p_{85} + 2 p_{94} = 0$"
      ],
      "text/plain": [
       "2⋅p₈₅ + 2⋅p₉₄ = 0"
      ]
     },
     "metadata": {},
     "output_type": "display_data"
    },
    {
     "data": {
      "text/latex": [
       "$2 p_{95} = 0$"
      ],
      "text/plain": [
       "2⋅p₉₅ = 0"
      ]
     },
     "metadata": {},
     "output_type": "display_data"
    },
    {
     "data": {
      "text/latex": [
       "$p_{66} = 0$"
      ],
      "text/plain": [
       "p₆₆ = 0"
      ]
     },
     "metadata": {},
     "output_type": "display_data"
    },
    {
     "data": {
      "text/latex": [
       "$2 p_{76} = 0$"
      ],
      "text/plain": [
       "2⋅p₇₆ = 0"
      ]
     },
     "metadata": {},
     "output_type": "display_data"
    },
    {
     "data": {
      "text/latex": [
       "$p_{77} + 2 p_{86} = 1$"
      ],
      "text/plain": [
       "p₇₇ + 2⋅p₈₆ = 1"
      ]
     },
     "metadata": {},
     "output_type": "display_data"
    },
    {
     "data": {
      "text/latex": [
       "$2 p_{87} + 2 p_{96} = 0$"
      ],
      "text/plain": [
       "2⋅p₈₇ + 2⋅p₉₆ = 0"
      ]
     },
     "metadata": {},
     "output_type": "display_data"
    },
    {
     "data": {
      "text/latex": [
       "$p_{88} + 2 p_{97} = 1$"
      ],
      "text/plain": [
       "p₈₈ + 2⋅p₉₇ = 1"
      ]
     },
     "metadata": {},
     "output_type": "display_data"
    },
    {
     "data": {
      "text/latex": [
       "$2 p_{98} = 0$"
      ],
      "text/plain": [
       "2⋅p₉₈ = 0"
      ]
     },
     "metadata": {},
     "output_type": "display_data"
    },
    {
     "data": {
      "text/latex": [
       "$p_{99} = 0$"
      ],
      "text/plain": [
       "p₉₉ = 0"
      ]
     },
     "metadata": {},
     "output_type": "display_data"
    }
   ],
   "source": [
    "for m in monomials(0:6, x, y)\n",
    "    display(Eq(pf.coeff_monomial(m), pm.coeff_monomial(m)))\n",
    "end"
   ]
  },
  {
   "cell_type": "markdown",
   "metadata": {},
   "source": [
    "# Proving that Motzkin is not a SOS"
   ]
  },
  {
   "cell_type": "markdown",
   "metadata": {},
   "source": [
    "**Solution**: Suppose that Motzkin polynomial **IS a sum of squares** of polynomials and take one summand $f^2$ of the sum."
   ]
  },
  {
   "cell_type": "code",
   "execution_count": 36,
   "metadata": {
    "ExecuteTime": {
     "end_time": "2021-02-03T15:52:33.218000+01:00",
     "start_time": "2021-02-03T14:52:33.207Z"
    }
   },
   "outputs": [
    {
     "data": {
      "text/latex": [
       "$x^{4} y^{2} + x^{2} y^{4} - 3 x^{2} y^{2} + 1$"
      ],
      "text/plain": [
       " 4  2    2  4      2  2    \n",
       "x ⋅y  + x ⋅y  - 3⋅x ⋅y  + 1"
      ]
     },
     "execution_count": 36,
     "metadata": {},
     "output_type": "execute_result"
    }
   ],
   "source": [
    "Motzkin"
   ]
  },
  {
   "cell_type": "code",
   "execution_count": 37,
   "metadata": {
    "ExecuteTime": {
     "end_time": "2021-02-03T15:52:47.305000+01:00",
     "start_time": "2021-02-03T14:52:46.706Z"
    }
   },
   "outputs": [
    {
     "data": {
      "text/latex": [
       "$a_{0} + a_{1} x + a_{2} y + a_{3} x^{2} + a_{4} x y + a_{5} y^{2} + a_{6} x^{3} + a_{7} x^{2} y + a_{8} x y^{2} + a_{9} y^{3}$"
      ],
      "text/plain": [
       "                       2                2       3       2           2       3\n",
       "a₀ + a₁⋅x + a₂⋅y + a₃⋅x  + a₄⋅x⋅y + a₅⋅y  + a₆⋅x  + a₇⋅x ⋅y + a₈⋅x⋅y  + a₉⋅y "
      ]
     },
     "execution_count": 37,
     "metadata": {},
     "output_type": "execute_result"
    }
   ],
   "source": [
    "a₀ = symbols(\"a0\", real=true)\n",
    "a = collect(symbols(\"a1:10\", real=true))\n",
    "f = sum(c*m for (c,m) in zip([a₀;a], m₃))"
   ]
  },
  {
   "cell_type": "code",
   "execution_count": 38,
   "metadata": {
    "ExecuteTime": {
     "end_time": "2021-02-03T15:55:36.575000+01:00",
     "start_time": "2021-02-03T14:55:36.542Z"
    }
   },
   "outputs": [
    {
     "data": {
      "text/latex": [
       "$\\operatorname{Poly}{\\left( a_{6}^{2} x^{6} + 2 a_{6} a_{7} x^{5}y + 2 a_{3} a_{6} x^{5} + \\left(2 a_{6} a_{8} + a_{7}^{2}\\right) x^{4}y^{2} + \\left(2 a_{3} a_{7} + 2 a_{4} a_{6}\\right) x^{4}y + \\left(2 a_{1} a_{6} + a_{3}^{2}\\right) x^{4} + \\left(2 a_{6} a_{9} + 2 a_{7} a_{8}\\right) x^{3}y^{3} + \\left(2 a_{3} a_{8} + 2 a_{4} a_{7} + 2 a_{5} a_{6}\\right) x^{3}y^{2} + \\left(2 a_{1} a_{7} + 2 a_{2} a_{6} + 2 a_{3} a_{4}\\right) x^{3}y + \\left(2 a_{0} a_{6} + 2 a_{1} a_{3}\\right) x^{3} + \\left(2 a_{7} a_{9} + a_{8}^{2}\\right) x^{2}y^{4} + \\left(2 a_{3} a_{9} + 2 a_{4} a_{8} + 2 a_{5} a_{7}\\right) x^{2}y^{3} + \\left(2 a_{1} a_{8} + 2 a_{2} a_{7} + 2 a_{3} a_{5} + a_{4}^{2}\\right) x^{2}y^{2} + \\left(2 a_{0} a_{7} + 2 a_{1} a_{4} + 2 a_{2} a_{3}\\right) x^{2}y + \\left(2 a_{0} a_{3} + a_{1}^{2}\\right) x^{2} + 2 a_{8} a_{9} xy^{5} + \\left(2 a_{4} a_{9} + 2 a_{5} a_{8}\\right) xy^{4} + \\left(2 a_{1} a_{9} + 2 a_{2} a_{8} + 2 a_{4} a_{5}\\right) xy^{3} + \\left(2 a_{0} a_{8} + 2 a_{1} a_{5} + 2 a_{2} a_{4}\\right) xy^{2} + \\left(2 a_{0} a_{4} + 2 a_{1} a_{2}\\right) xy + 2 a_{0} a_{1} x + a_{9}^{2} y^{6} + 2 a_{5} a_{9} y^{5} + \\left(2 a_{2} a_{9} + a_{5}^{2}\\right) y^{4} + \\left(2 a_{0} a_{9} + 2 a_{2} a_{5}\\right) y^{3} + \\left(2 a_{0} a_{5} + a_{2}^{2}\\right) y^{2} + 2 a_{0} a_{2} y + a_{0}^{2}, x, y, domain=\\mathbb{Z}\\left[a_{0}, a_{1}, a_{2}, a_{3}, a_{4}, a_{5}, a_{6}, a_{7}, a_{8}, a_{9}\\right] \\right)}$"
      ],
      "text/plain": [
       "Poly(a6**2*x**6 + 2*a6*a7*x**5*y + 2*a3*a6*x**5 + (2*a6*a8 + a7**2)*x**4*y**2 \n",
       "+ (2*a3*a7 + 2*a4*a6)*x**4*y + (2*a1*a6 + a3**2)*x**4 + (2*a6*a9 + 2*a7*a8)*x*\n",
       "*3*y**3 + (2*a3*a8 + 2*a4*a7 + 2*a5*a6)*x**3*y**2 + (2*a1*a7 + 2*a2*a6 + 2*a3*\n",
       "a4)*x**3*y + (2*a0*a6 + 2*a1*a3)*x**3 + (2*a7*a9 + a8**2)*x**2*y**4 + (2*a3*a9\n",
       " + 2*a4*a8 + 2*a5*a7)*x**2*y**3 + (2*a1*a8 + 2*a2*a7 + 2*a3*a5 + a4**2)*x**2*y\n",
       "**2 + (2*a0*a7 + 2*a1*a4 + 2*a2*a3)*x**2*y + (2*a0*a3 + a1**2)*x**2 + 2*a8*a9*\n",
       "x*y**5 + (2*a4*a9 + 2*a5*a8)*x*y**4 + (2*a1*a9 + 2*a2*a8 + 2*a4*a5)*x*y**3 + (\n",
       "2*a0*a8 + 2*a1*a5 + 2*a2*a4)*x*y**2 + (2*a0*a4 + 2*a1*a2)*x*y + 2*a0*a1*x + a9\n",
       "**2*y**6 + 2*a5*a9*y**5 + (2*a2*a9 + a5**2)*y**4 + (2*a0*a9 + 2*a2*a5)*y**3 + \n",
       "(2*a0*a5 + a2**2)*y**2 + 2*a0*a2*y + a0**2, x, y, domain='ZZ[a0,a1,a2,a3,a4,a5\n",
       ",a6,a7,a8,a9]')"
      ]
     },
     "execution_count": 38,
     "metadata": {},
     "output_type": "execute_result"
    }
   ],
   "source": [
    "sympy.Poly(expand(f^2), x, y)(\n",
    "#     a[6] => 0, # x⁶\n",
    "#     a[9] => 0, # y⁶\n",
    "#     a[3] => 0, # x⁴\n",
    "#     a[5] => 0, # y⁴\n",
    "#     a[1] => 0, # x²\n",
    "#     a[2] => 0, # y²\n",
    ")"
   ]
  },
  {
   "cell_type": "markdown",
   "metadata": {},
   "source": [
    "So if Motzikn polynomial $m(x,y)$ were a sum of squares,\n",
    "$$\n",
    "m(x,y) = \\sum_i f_i^2(x,y)\\enspace,\n",
    "$$\n",
    "its coefficient in front of $x^2y^2$ is the sum of the corresponding coefficients in $f_i$:\n",
    "$$\n",
    "-3 = \\sum_i (f_i^2)_{x^2y^2} = \\sum_i \\left((a_4)_{(i)}\\right)^2\\enspace .\n",
    "$$"
   ]
  },
  {
   "cell_type": "code",
   "execution_count": null,
   "metadata": {},
   "outputs": [],
   "source": []
  },
  {
   "cell_type": "code",
   "execution_count": null,
   "metadata": {},
   "outputs": [],
   "source": []
  }
 ],
 "metadata": {
  "@webio": {
   "lastCommId": null,
   "lastKernelId": null
  },
  "kernelspec": {
   "display_name": "Julia 1.7.3",
   "language": "julia",
   "name": "julia-1.7"
  },
  "language_info": {
   "file_extension": ".jl",
   "mimetype": "application/julia",
   "name": "julia",
   "version": "1.7.3"
  },
  "toc": {
   "base_numbering": 1,
   "nav_menu": {},
   "number_sections": true,
   "sideBar": false,
   "skip_h1_title": false,
   "title_cell": "Table of Contents",
   "title_sidebar": "Contents",
   "toc_cell": false,
   "toc_position": {},
   "toc_section_display": true,
   "toc_window_display": false
  }
 },
 "nbformat": 4,
 "nbformat_minor": 2
}
