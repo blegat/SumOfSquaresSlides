{
 "cells": [
  {
   "cell_type": "code",
   "execution_count": 1,
   "metadata": {
    "ExecuteTime": {
     "end_time": "2021-02-03T15:27:07.426000+01:00",
     "start_time": "2021-02-03T14:27:04.362Z"
    }
   },
   "outputs": [
    {
     "name": "stdout",
     "output_type": "stream",
     "text": [
      "\u001b[32m\u001b[1m      Status\u001b[22m\u001b[39m `~/Mathematics/Conferences/Presentations/SumOfSquaresSlides/2022_ICM_Computational_Math/Project.toml`\n",
      " \u001b[90m [7c1d4256] \u001b[39mDynamicPolynomials v0.4.5\n",
      " \u001b[90m [7073ff75] \u001b[39mIJulia v1.23.3\n",
      " \u001b[90m [4076af6c] \u001b[39mJuMP v1.1.1\n",
      " \u001b[90m [8bc5a954] \u001b[39mPermutationGroups v0.3.2\n",
      " \u001b[90m [c946c3f1] \u001b[39mSCS v1.1.2\n",
      " \u001b[90m [4b9e565b] \u001b[39mSumOfSquares v0.6.2\n",
      " \u001b[90m [24249f21] \u001b[39mSymPy v1.1.6\n",
      " \u001b[90m [858aa9a9] \u001b[39mSymbolicWedderburn v0.3.0\n"
     ]
    }
   ],
   "source": [
    "using Pkg\n",
    "Pkg.status()\n",
    "# Pkg.instantiate()"
   ]
  },
  {
   "cell_type": "markdown",
   "metadata": {},
   "source": [
    "# Optimization"
   ]
  },
  {
   "cell_type": "code",
   "execution_count": 2,
   "metadata": {
    "ExecuteTime": {
     "end_time": "2021-02-03T15:59:50.970000+01:00",
     "start_time": "2021-02-03T14:59:50.966Z"
    }
   },
   "outputs": [],
   "source": [
    "using LinearAlgebra\n",
    "using DynamicPolynomials\n",
    "using SCS"
   ]
  },
  {
   "cell_type": "code",
   "execution_count": 3,
   "metadata": {
    "ExecuteTime": {
     "end_time": "2021-02-03T15:59:53.497000+01:00",
     "start_time": "2021-02-03T14:59:53.487Z"
    }
   },
   "outputs": [
    {
     "data": {
      "text/latex": [
       "$$ x^{4}y^{2} + x^{2}y^{4} - 3x^{2}y^{2} + 1 $$"
      ],
      "text/plain": [
       "x⁴y² + x²y⁴ - 3x²y² + 1"
      ]
     },
     "execution_count": 3,
     "metadata": {},
     "output_type": "execute_result"
    }
   ],
   "source": [
    "@polyvar x y\n",
    "motzkin = x^4*y^2 + y^4*x^2 - 3*x^2*y^2 + 1"
   ]
  },
  {
   "cell_type": "code",
   "execution_count": 4,
   "metadata": {},
   "outputs": [
    {
     "data": {
      "text/plain": [
       "10×10 Matrix{Monomial{true}}:\n",
       " x⁶    x⁵y   x⁴y²  x³y³  x⁵    x⁴y   x³y²  x⁴    x³y   x³\n",
       " x⁵y   x⁴y²  x³y³  x²y⁴  x⁴y   x³y²  x²y³  x³y   x²y²  x²y\n",
       " x⁴y²  x³y³  x²y⁴  xy⁵   x³y²  x²y³  xy⁴   x²y²  xy³   xy²\n",
       " x³y³  x²y⁴  xy⁵   y⁶    x²y³  xy⁴   y⁵    xy³   y⁴    y³\n",
       " x⁵    x⁴y   x³y²  x²y³  x⁴    x³y   x²y²  x³    x²y   x²\n",
       " x⁴y   x³y²  x²y³  xy⁴   x³y   x²y²  xy³   x²y   xy²   xy\n",
       " x³y²  x²y³  xy⁴   y⁵    x²y²  xy³   y⁴    xy²   y³    y²\n",
       " x⁴    x³y   x²y²  xy³   x³    x²y   xy²   x²    xy    x\n",
       " x³y   x²y²  xy³   y⁴    x²y   xy²   y³    xy    y²    y\n",
       " x³    x²y   xy²   y³    x²    xy    y²    x     y     1"
      ]
     },
     "execution_count": 4,
     "metadata": {},
     "output_type": "execute_result"
    }
   ],
   "source": [
    "b = monomials([x,y], 0:maxdegree(motzkin)÷2)\n",
    "A = b*b'\n",
    "# x^2*y^3 .== A"
   ]
  },
  {
   "cell_type": "code",
   "execution_count": 78,
   "metadata": {},
   "outputs": [],
   "source": [
    "# m = Model()\n",
    "# P = @variable m P[1:length(b), 1:length(b)] Symmetric\n",
    "# dot(x^3*y^1 .== A, P)"
   ]
  },
  {
   "cell_type": "code",
   "execution_count": 6,
   "metadata": {},
   "outputs": [],
   "source": [
    "using JuMP"
   ]
  },
  {
   "cell_type": "code",
   "execution_count": 7,
   "metadata": {},
   "outputs": [
    {
     "data": {
      "text/plain": [
       "A JuMP Model\n",
       "Feasibility problem with:\n",
       "Variables: 55\n",
       "`AffExpr`-in-`MathOptInterface.EqualTo{Float64}`: 28 constraints\n",
       "`Vector{VariableRef}`-in-`MathOptInterface.PositiveSemidefiniteConeTriangle`: 1 constraint\n",
       "Model mode: AUTOMATIC\n",
       "CachingOptimizer state: NO_OPTIMIZER\n",
       "Solver name: No optimizer attached.\n",
       "Names registered in the model: P"
      ]
     },
     "execution_count": 7,
     "metadata": {},
     "output_type": "execute_result"
    }
   ],
   "source": [
    "m = Model()\n",
    "let f = motzkin\n",
    "    𝕩 = variables(f)\n",
    "    b = monomials(𝕩, 0:maxdegree(f)÷2)\n",
    "    lb = length(b)\n",
    "    A = b*b'\n",
    "    \n",
    "    P = @variable m P[1:lb, 1:lb] Symmetric\n",
    "    @constraint m P in PSDCone()\n",
    "    \n",
    "    for t in monomials(𝕩, 0:maxdegree(f))\n",
    "        A_t = A .== t\n",
    "        @constraint m dot(A_t, P) == DynamicPolynomials.coefficient(f, t)\n",
    "    end\n",
    "    \n",
    "    m\n",
    "end\n",
    "m"
   ]
  },
  {
   "cell_type": "markdown",
   "metadata": {},
   "source": [
    "# Using `SumOfSquares.jl`"
   ]
  },
  {
   "cell_type": "code",
   "execution_count": 8,
   "metadata": {},
   "outputs": [],
   "source": [
    "using SumOfSquares"
   ]
  },
  {
   "cell_type": "code",
   "execution_count": 9,
   "metadata": {
    "ExecuteTime": {
     "end_time": "2021-02-03T16:00:36.917000+01:00",
     "start_time": "2021-02-03T15:00:36.907Z"
    }
   },
   "outputs": [
    {
     "data": {
      "text/latex": [
       "$$ \\begin{aligned}\n",
       "\\text{feasibility}\\\\\n",
       "\\text{Subject to} \\quad & (1)x^{4}y^{2} + (1)x^{2}y^{4} + (-3)x^{2}y^{2} + (1) \\text{ is SOS}\\\\\n",
       "\\end{aligned} $$"
      ]
     },
     "metadata": {},
     "output_type": "display_data"
    }
   ],
   "source": [
    "m = SOSModel()\n",
    "@constraint m sos_constraint motzkin in SOSCone()\n",
    "print(m)"
   ]
  },
  {
   "cell_type": "code",
   "execution_count": 10,
   "metadata": {
    "ExecuteTime": {
     "end_time": "2021-02-03T16:01:07.175000+01:00",
     "start_time": "2021-02-03T15:01:07.084Z"
    }
   },
   "outputs": [
    {
     "name": "stdout",
     "output_type": "stream",
     "text": [
      "------------------------------------------------------------------\n",
      "\t       SCS v3.2.0 - Splitting Conic Solver\n",
      "\t(c) Brendan O'Donoghue, Stanford University, 2012\n",
      "------------------------------------------------------------------\n",
      "problem:  variables n: 10, constraints m: 20\n",
      "cones: \t  z: primal zero / dual free vars: 10\n",
      "\t  s: psd vars: 10, ssize: 1\n",
      "settings: eps_abs: 1.0e-04, eps_rel: 1.0e-04, eps_infeas: 1.0e-07\n",
      "\t  alpha: 1.50, scale: 1.00e-01, adaptive_scale: 1\n",
      "\t  max_iters: 100000, normalize: 1, rho_x: 1.00e-06\n",
      "\t  acceleration_lookback: 10, acceleration_interval: 10\n",
      "lin-sys:  sparse-direct\n",
      "\t  nnz(A): 20, nnz(P): 0\n",
      "------------------------------------------------------------------\n",
      " iter | pri res | dua res |   gap   |   obj   |  scale  | time (s)\n",
      "------------------------------------------------------------------\n",
      "     0| 5.99e+00  2.00e-01  2.40e+00  1.20e+00  1.00e-01  2.52e-04 \n",
      "    25| 2.80e+13  5.69e+11  3.53e+19  1.76e+19  1.00e-01  4.72e-04 \n",
      "------------------------------------------------------------------\n",
      "status:  infeasible\n",
      "timings: total: 5.80e-04s = setup: 1.06e-04s + solve: 4.75e-04s\n",
      "\t lin-sys: 3.93e-05s, cones: 2.55e-04s, accel: 2.98e-05s\n",
      "------------------------------------------------------------------\n",
      "objective = inf\n",
      "------------------------------------------------------------------\n"
     ]
    },
    {
     "name": "stderr",
     "output_type": "stream",
     "text": [
      "┌ Info: INFEASIBLE\n",
      "└ @ Main In[10]:3\n"
     ]
    }
   ],
   "source": [
    "set_optimizer(m, SCS.Optimizer)\n",
    "optimize!(m)\n",
    "@info termination_status(m)"
   ]
  },
  {
   "cell_type": "code",
   "execution_count": 11,
   "metadata": {
    "ExecuteTime": {
     "end_time": "2021-02-03T16:02:12.829000+01:00",
     "start_time": "2021-02-03T15:02:12.243Z"
    }
   },
   "outputs": [
    {
     "data": {
      "text/latex": [
       "$$ \\begin{aligned}\n",
       "\\text{feasibility}\\\\\n",
       "\\text{Subject to} \\quad & (1)x^{6}y^{2} + (2)x^{4}y^{4} + (1)x^{2}y^{6} + (-2)x^{4}y^{2} + (-2)x^{2}y^{4} + (-3)x^{2}y^{2} + (1)x^{2} + (1)y^{2} + (1) \\text{ is SOS}\\\\\n",
       "\\end{aligned} $$"
      ]
     },
     "metadata": {},
     "output_type": "display_data"
    }
   ],
   "source": [
    "m = SOSModel()\n",
    "@constraint m sos_constraint (x^2 + y^2 + 1)*motzkin in SOSCone()\n",
    "print(m)"
   ]
  },
  {
   "cell_type": "code",
   "execution_count": 12,
   "metadata": {
    "ExecuteTime": {
     "end_time": "2021-02-03T16:02:30.405000+01:00",
     "start_time": "2021-02-03T15:02:30.299Z"
    }
   },
   "outputs": [
    {
     "name": "stdout",
     "output_type": "stream",
     "text": [
      "------------------------------------------------------------------\n",
      "\t       SCS v3.2.0 - Splitting Conic Solver\n",
      "\t(c) Brendan O'Donoghue, Stanford University, 2012\n",
      "------------------------------------------------------------------\n",
      "problem:  variables n: 45, constraints m: 72\n",
      "cones: \t  z: primal zero / dual free vars: 27\n",
      "\t  s: psd vars: 45, ssize: 1\n",
      "settings: eps_abs: 1.0e-04, eps_rel: 1.0e-04, eps_infeas: 1.0e-07\n",
      "\t  alpha: 1.50, scale: 1.00e-01, adaptive_scale: 1\n",
      "\t  max_iters: 100000, normalize: 1, rho_x: 1.00e-06\n",
      "\t  acceleration_lookback: 10, acceleration_interval: 10\n",
      "lin-sys:  sparse-direct\n",
      "\t  nnz(A): 90, nnz(P): 0\n",
      "------------------------------------------------------------------\n",
      " iter | pri res | dua res |   gap   |   obj   |  scale  | time (s)\n",
      "------------------------------------------------------------------\n",
      "     0| 3.00e+00  2.61e-01  1.87e+00  9.35e-01  1.00e-01  2.23e-04 \n",
      "    50| 8.10e-07  2.31e-07  1.58e-06  7.88e-07  1.00e-01  2.56e-03 \n",
      "------------------------------------------------------------------\n",
      "status:  solved\n",
      "timings: total: 2.80e-03s = setup: 2.35e-04s + solve: 2.57e-03s\n",
      "\t lin-sys: 2.24e-04s, cones: 1.86e-03s, accel: 8.02e-05s\n",
      "------------------------------------------------------------------\n",
      "objective = 0.000001\n",
      "------------------------------------------------------------------\n"
     ]
    },
    {
     "name": "stderr",
     "output_type": "stream",
     "text": [
      "┌ Info: OPTIMAL\n",
      "└ @ Main In[12]:3\n"
     ]
    }
   ],
   "source": [
    "set_optimizer(m, SCS.Optimizer)\n",
    "optimize!(m)\n",
    "@info termination_status(m)"
   ]
  },
  {
   "cell_type": "code",
   "execution_count": 13,
   "metadata": {},
   "outputs": [
    {
     "data": {
      "text/latex": [
       "sos_constraint : $ (1)x^{6}y^{2} + (2)x^{4}y^{4} + (1)x^{2}y^{6} + (-2)x^{4}y^{2} + (-2)x^{2}y^{4} + (-3)x^{2}y^{2} + (1)x^{2} + (1)y^{2} + (1) \\text{ is SOS} $"
      ],
      "text/plain": [
       "sos_constraint : (1)x⁶y² + (2)x⁴y⁴ + (1)x²y⁶ + (-2)x⁴y² + (-2)x²y⁴ + (-3)x²y² + (1)x² + (1)y² + (1) is SOS"
      ]
     },
     "execution_count": 13,
     "metadata": {},
     "output_type": "execute_result"
    }
   ],
   "source": [
    "m[:sos_constraint]"
   ]
  },
  {
   "cell_type": "code",
   "execution_count": 15,
   "metadata": {
    "ExecuteTime": {
     "end_time": "2021-02-03T16:03:15.682000+01:00",
     "start_time": "2021-02-03T15:03:15.638Z"
    }
   },
   "outputs": [
    {
     "data": {
      "text/latex": [
       "$$ -8.682134544635289e-8x^{6}y^{2} + 6.835648676666016e-16x^{5}y^{3} - 2.3894062328722043e-7x^{4}y^{4} - 8.648612836626212e-16x^{3}y^{5} - 8.682134633453131e-8x^{2}y^{6} - 1.7697661164952007e-16x^{5}y^{2} - 6.549999014108959e-16x^{4}y^{3} + 1.1089548499072873e-16x^{3}y^{4} - 4.173986419629659e-16x^{2}y^{5} - 4.390374774843053e-8x^{4}y^{2} - 3.330669073875474e-16x^{3}y^{3} - 4.390374686025211e-8x^{2}y^{4} - 4.286850306893944e-16x^{4}y + 5.03866362732463e-16x^{3}y^{2} + 4.363376205957347e-16x^{2}y^{3} - 1.8549507101882013e-16xy^{4} + 3.2694458875364006e-16x^{3}y + 3.04002035989015e-7x^{2}y^{2} + 1.2273676457215796e-15xy^{3} + 1.3691925531243426e-15x^{2}y + 1.858154127503447e-17xy^{2} + 1.3115902453009198e-7x^{2} - 8.881784197001235e-16xy + 1.3115902386395817e-7y^{2} - 2.7087054202848827e-16x - 3.04435175924639e-16y - 6.583188838504839e-8 $$"
      ],
      "text/plain": [
       "-8.682134544635289e-8x⁶y² + 6.835648676666016e-16x⁵y³ - 2.3894062328722043e-7x⁴y⁴ - 8.648612836626212e-16x³y⁵ - 8.682134633453131e-8x²y⁶ - 1.7697661164952007e-16x⁵y² - 6.549999014108959e-16x⁴y³ + 1.1089548499072873e-16x³y⁴ - 4.173986419629659e-16x²y⁵ - 4.390374774843053e-8x⁴y² - 3.330669073875474e-16x³y³ - 4.390374686025211e-8x²y⁴ - 4.286850306893944e-16x⁴y + 5.03866362732463e-16x³y² + 4.363376205957347e-16x²y³ - 1.8549507101882013e-16xy⁴ + 3.2694458875364006e-16x³y + 3.04002035989015e-7x²y² + 1.2273676457215796e-15xy³ + 1.3691925531243426e-15x²y + 1.858154127503447e-17xy² + 1.3115902453009198e-7x² - 8.881784197001235e-16xy + 1.3115902386395817e-7y² - 2.7087054202848827e-16x - 3.04435175924639e-16y - 6.583188838504839e-8"
      ]
     },
     "execution_count": 15,
     "metadata": {},
     "output_type": "execute_result"
    }
   ],
   "source": [
    "sos_dec = sos_decomposition(m[:sos_constraint], 1e-6)\n",
    "res = polynomial(sos_dec) - (x^2 + y^2 + 1)*motzkin"
   ]
  },
  {
   "cell_type": "code",
   "execution_count": 16,
   "metadata": {
    "ExecuteTime": {
     "end_time": "2021-02-03T16:04:39.814000+01:00",
     "start_time": "2021-02-03T15:04:39.803Z"
    }
   },
   "outputs": [
    {
     "data": {
      "text/plain": [
       "1.1325427916466189e-6"
      ]
     },
     "execution_count": 16,
     "metadata": {},
     "output_type": "execute_result"
    }
   ],
   "source": [
    "norm(res, 1)"
   ]
  },
  {
   "cell_type": "code",
   "execution_count": 17,
   "metadata": {},
   "outputs": [
    {
     "name": "stderr",
     "output_type": "stream",
     "text": [
      "┌ Info: \n",
      "│   rounded_solution = x^6*y^2 + 2.0*x^4*y^4 + x^2*y^6 - 2.0*x^4*y^2 - 2.0*x^2*y^4 - 3.0*x^2*y^2 + x^2 + y^2 + 1.0\n",
      "│   original_motzkin = x^6*y^2 + 2.0*x^4*y^4 + x^2*y^6 - 2.0*x^4*y^2 - 2.0*x^2*y^4 - 3.0*x^2*y^2 + x^2 + y^2 + 1.0\n",
      "└ @ Main In[17]:1\n"
     ]
    }
   ],
   "source": [
    "@info \"\" rounded_solution=round(polynomial(sos_dec), digits=6) original_motzkin=(x^2 + y^2 + 1.0)*motzkin"
   ]
  },
  {
   "cell_type": "code",
   "execution_count": 23,
   "metadata": {},
   "outputs": [
    {
     "data": {
      "text/plain": [
       "9×9 Matrix{Float64}:\n",
       "  1.0   0.0   0.5  -0.0   0.0  -1.5   0.0   0.0  -0.0\n",
       "  0.0   1.0  -0.0  -0.0   0.0  -0.0  -0.0   0.0  -1.0\n",
       "  0.5  -0.0   1.0  -0.0   0.0  -1.5   0.0  -0.0  -0.0\n",
       " -0.0  -0.0  -0.0   1.0   0.0   0.0   0.0  -1.0   0.0\n",
       "  0.0   0.0   0.0   0.0   1.0  -0.0  -1.0   0.0  -0.0\n",
       " -1.5  -0.0  -1.5   0.0  -0.0   3.0  -0.0   0.0   0.0\n",
       "  0.0  -0.0   0.0   0.0  -1.0  -0.0   1.0  -0.0  -0.0\n",
       "  0.0   0.0  -0.0  -1.0   0.0   0.0  -0.0   1.0   0.0\n",
       " -0.0  -1.0  -0.0   0.0  -0.0   0.0  -0.0   0.0   1.0"
      ]
     },
     "execution_count": 23,
     "metadata": {},
     "output_type": "execute_result"
    }
   ],
   "source": [
    "G = gram_matrix(m[:sos_constraint]);\n",
    "# @show norm(G.Q - round.(G.Q, digits = 6), 1)\n",
    "round.(G.Q, digits=4)"
   ]
  },
  {
   "cell_type": "code",
   "execution_count": 27,
   "metadata": {
    "ExecuteTime": {
     "end_time": "2021-02-03T16:07:57.564000+01:00",
     "start_time": "2021-02-03T15:07:57.544Z"
    }
   },
   "outputs": [
    {
     "data": {
      "text/plain": [
       "(2x⁶y² + 4x⁴y⁴ + 2x²y⁶ - 4x⁴y² - 4x²y⁴ - 6x²y² + 2x² + 2y² + 2,)"
      ]
     },
     "execution_count": 27,
     "metadata": {},
     "output_type": "execute_result"
    }
   ],
   "source": [
    "g = let m = G.basis.monomials\n",
    "    m' * round.(Int, 2 .* G.Q) * m\n",
    "end\n",
    "(g, )"
   ]
  },
  {
   "cell_type": "code",
   "execution_count": 29,
   "metadata": {
    "ExecuteTime": {
     "end_time": "2021-02-03T16:07:59.818000+01:00",
     "start_time": "2021-02-03T15:07:59.814Z"
    }
   },
   "outputs": [
    {
     "data": {
      "text/plain": [
       "true"
      ]
     },
     "execution_count": 29,
     "metadata": {},
     "output_type": "execute_result"
    }
   ],
   "source": [
    "g == 2(x^2 + y^2 + 1)*motzkin"
   ]
  },
  {
   "cell_type": "markdown",
   "metadata": {},
   "source": [
    "## Finding the denominator"
   ]
  },
  {
   "cell_type": "code",
   "execution_count": 31,
   "metadata": {
    "ExecuteTime": {
     "end_time": "2021-02-03T19:31:20.378000+01:00",
     "start_time": "2021-02-03T18:31:20.361Z"
    }
   },
   "outputs": [
    {
     "data": {
      "text/plain": [
       "2-element Vector{Monomial{true}}:\n",
       " x²\n",
       " y²"
      ]
     },
     "execution_count": 31,
     "metadata": {},
     "output_type": "execute_result"
    }
   ],
   "source": [
    "m = SOSModel()\n",
    "# X = DynamicPolynomials.monomials([x,y], 2:2)\n",
    "X = [x^2, y^2]"
   ]
  },
  {
   "cell_type": "code",
   "execution_count": 32,
   "metadata": {
    "ExecuteTime": {
     "end_time": "2021-02-03T19:31:21.200000+01:00",
     "start_time": "2021-02-03T18:31:21.188Z"
    }
   },
   "outputs": [
    {
     "name": "stdout",
     "output_type": "stream",
     "text": [
      "(_[1])*x^2 + (_[2])*y^2"
     ]
    }
   ],
   "source": [
    "@variable m denom Poly(X);\n",
    "print(denom)"
   ]
  },
  {
   "cell_type": "code",
   "execution_count": 33,
   "metadata": {},
   "outputs": [
    {
     "data": {
      "text/latex": [
       "$$ {\\_}_{1} + {\\_}_{2} \\geq 1.0 $$"
      ],
      "text/plain": [
       "_[1] + _[2] ≥ 1.0"
      ]
     },
     "execution_count": 33,
     "metadata": {},
     "output_type": "execute_result"
    }
   ],
   "source": [
    "@constraint m sum(DynamicPolynomials.coefficients(denom)) >= 1"
   ]
  },
  {
   "cell_type": "code",
   "execution_count": 34,
   "metadata": {},
   "outputs": [
    {
     "data": {
      "text/latex": [
       "$$ t $$"
      ],
      "text/plain": [
       "t"
      ]
     },
     "execution_count": 34,
     "metadata": {},
     "output_type": "execute_result"
    }
   ],
   "source": [
    "@variable m t\n",
    "@objective m Max t"
   ]
  },
  {
   "cell_type": "code",
   "execution_count": 35,
   "metadata": {
    "ExecuteTime": {
     "end_time": "2021-02-03T19:31:40.913000+01:00",
     "start_time": "2021-02-03T18:31:40.883Z"
    }
   },
   "outputs": [
    {
     "data": {
      "text/latex": [
       "$$ (_[1])x^{6}y^{2} + (_[1] + _[2])x^{4}y^{4} + (_[2])x^{2}y^{6} + (-3 _[1] - t)x^{4}y^{2} + (-3 _[2] - t)x^{2}y^{4} + (3 t)x^{2}y^{2} + (_[1])x^{2} + (_[2])y^{2} + (-t) \\text{ is SOS} $$"
      ],
      "text/plain": [
       "(_[1])x⁶y² + (_[1] + _[2])x⁴y⁴ + (_[2])x²y⁶ + (-3 _[1] - t)x⁴y² + (-3 _[2] - t)x²y⁴ + (3 t)x²y² + (_[1])x² + (_[2])y² + (-t) is SOS"
      ]
     },
     "execution_count": 35,
     "metadata": {},
     "output_type": "execute_result"
    }
   ],
   "source": [
    "@constraint m (denom-t)*motzkin ∈ SOSCone()"
   ]
  },
  {
   "cell_type": "code",
   "execution_count": 37,
   "metadata": {
    "ExecuteTime": {
     "end_time": "2021-02-03T19:31:24.376000+01:00",
     "start_time": "2021-02-03T18:31:24.346Z"
    }
   },
   "outputs": [
    {
     "data": {
      "text/plain": [
       "A JuMP Model\n",
       "Maximization problem with:\n",
       "Variables: 3\n",
       "Objective function type: VariableRef\n",
       "`AffExpr`-in-`MathOptInterface.GreaterThan{Float64}`: 1 constraint\n",
       "`Vector{AffExpr}`-in-`SumOfSquares.SOSPolynomialSet{FullSpace, Monomial{true}, MonomialVector{true}, SumOfSquares.Certificate.Newton{SOSCone, MonomialBasis, Tuple{}}}`: 1 constraint\n",
       "Model mode: AUTOMATIC\n",
       "CachingOptimizer state: NO_OPTIMIZER\n",
       "Solver name: No optimizer attached.\n",
       "Names registered in the model: denom, t"
      ]
     },
     "execution_count": 37,
     "metadata": {},
     "output_type": "execute_result"
    }
   ],
   "source": [
    "m"
   ]
  },
  {
   "cell_type": "code",
   "execution_count": 38,
   "metadata": {
    "ExecuteTime": {
     "end_time": "2021-02-03T19:31:45.883000+01:00",
     "start_time": "2021-02-03T18:31:45.634Z"
    },
    "scrolled": false
   },
   "outputs": [
    {
     "name": "stdout",
     "output_type": "stream",
     "text": [
      "------------------------------------------------------------------\n",
      "\t       SCS v3.2.0 - Splitting Conic Solver\n",
      "\t(c) Brendan O'Donoghue, Stanford University, 2012\n",
      "------------------------------------------------------------------\n",
      "problem:  variables n: 48, constraints m: 73\n",
      "cones: \t  z: primal zero / dual free vars: 27\n",
      "\t  l: linear vars: 1\n",
      "\t  s: psd vars: 45, ssize: 1\n",
      "settings: eps_abs: 1.0e-04, eps_rel: 1.0e-04, eps_infeas: 1.0e-07\n",
      "\t  alpha: 1.50, scale: 1.00e-01, adaptive_scale: 1\n",
      "\t  max_iters: 100000, normalize: 1, rho_x: 1.00e-06\n",
      "\t  acceleration_lookback: 10, acceleration_interval: 10\n",
      "lin-sys:  sparse-direct\n",
      "\t  nnz(A): 104, nnz(P): 0\n",
      "------------------------------------------------------------------\n",
      " iter | pri res | dua res |   gap   |   obj   |  scale  | time (s)\n",
      "------------------------------------------------------------------\n",
      "     0| 7.85e+00  1.00e+00  8.27e+00 -3.59e+00  1.00e-01  1.10e-04 \n",
      "    50| 2.74e-07  6.10e-09  2.74e-07 -1.37e-07  1.00e-01  1.31e-03 \n",
      "------------------------------------------------------------------\n",
      "status:  solved\n",
      "timings: total: 1.43e-03s = setup: 1.21e-04s + solve: 1.31e-03s\n",
      "\t lin-sys: 1.27e-04s, cones: 8.71e-04s, accel: 6.68e-05s\n",
      "------------------------------------------------------------------\n",
      "objective = -0.000000\n",
      "------------------------------------------------------------------\n"
     ]
    },
    {
     "name": "stderr",
     "output_type": "stream",
     "text": [
      "┌ Info: OPTIMAL\n",
      "└ @ Main In[38]:3\n"
     ]
    }
   ],
   "source": [
    "set_optimizer(m, SCS.Optimizer)\n",
    "optimize!(m)\n",
    "@info termination_status(m)"
   ]
  },
  {
   "cell_type": "code",
   "execution_count": 39,
   "metadata": {
    "ExecuteTime": {
     "end_time": "2021-02-03T19:32:01.618000+01:00",
     "start_time": "2021-02-03T18:32:01.610Z"
    }
   },
   "outputs": [
    {
     "data": {
      "text/latex": [
       "$$ 1.33422x^{2} + 1.33422y^{2} $$"
      ],
      "text/plain": [
       "1.33422x² + 1.33422y²"
      ]
     },
     "execution_count": 39,
     "metadata": {},
     "output_type": "execute_result"
    }
   ],
   "source": [
    "denominator = round.(value(m[:denom]), digits=5)"
   ]
  },
  {
   "cell_type": "code",
   "execution_count": 40,
   "metadata": {},
   "outputs": [
    {
     "data": {
      "text/plain": [
       "2.7385546976901366e-7"
      ]
     },
     "execution_count": 40,
     "metadata": {},
     "output_type": "execute_result"
    }
   ],
   "source": [
    "objective_value(m)"
   ]
  },
  {
   "cell_type": "code",
   "execution_count": null,
   "metadata": {},
   "outputs": [],
   "source": []
  }
 ],
 "metadata": {
  "@webio": {
   "lastCommId": null,
   "lastKernelId": null
  },
  "kernelspec": {
   "display_name": "Julia 1.7.3",
   "language": "julia",
   "name": "julia-1.7"
  },
  "language_info": {
   "file_extension": ".jl",
   "mimetype": "application/julia",
   "name": "julia",
   "version": "1.7.3"
  },
  "toc": {
   "base_numbering": 1,
   "nav_menu": {},
   "number_sections": true,
   "sideBar": false,
   "skip_h1_title": false,
   "title_cell": "Table of Contents",
   "title_sidebar": "Contents",
   "toc_cell": false,
   "toc_position": {},
   "toc_section_display": true,
   "toc_window_display": false
  }
 },
 "nbformat": 4,
 "nbformat_minor": 2
}
